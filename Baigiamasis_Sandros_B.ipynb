{
 "cells": [
  {
   "cell_type": "code",
   "execution_count": 1,
   "id": "d32cc94d",
   "metadata": {},
   "outputs": [],
   "source": [
    "import pandas as pd\n",
    "import numpy as np\n",
    "import matplotlib.pyplot as plt\n",
    "import seaborn as sns"
   ]
  },
  {
   "cell_type": "code",
   "execution_count": 2,
   "id": "40dea148",
   "metadata": {
    "scrolled": true
   },
   "outputs": [
    {
     "data": {
      "text/html": [
       "<div>\n",
       "<style scoped>\n",
       "    .dataframe tbody tr th:only-of-type {\n",
       "        vertical-align: middle;\n",
       "    }\n",
       "\n",
       "    .dataframe tbody tr th {\n",
       "        vertical-align: top;\n",
       "    }\n",
       "\n",
       "    .dataframe thead th {\n",
       "        text-align: right;\n",
       "    }\n",
       "</style>\n",
       "<table border=\"1\" class=\"dataframe\">\n",
       "  <thead>\n",
       "    <tr style=\"text-align: right;\">\n",
       "      <th></th>\n",
       "      <th>ref</th>\n",
       "      <th>company</th>\n",
       "      <th>company_location</th>\n",
       "      <th>review_date</th>\n",
       "      <th>country_of_bean_origin</th>\n",
       "      <th>specific_bean_origin_or_bar_name</th>\n",
       "      <th>cocoa_percent</th>\n",
       "      <th>rating</th>\n",
       "      <th>counts_of_ingredients</th>\n",
       "      <th>beans</th>\n",
       "      <th>cocoa_butter</th>\n",
       "      <th>vanilla</th>\n",
       "      <th>lecithin</th>\n",
       "      <th>salt</th>\n",
       "      <th>sugar</th>\n",
       "      <th>sweetener_without_sugar</th>\n",
       "      <th>first_taste</th>\n",
       "      <th>second_taste</th>\n",
       "      <th>third_taste</th>\n",
       "      <th>fourth_taste</th>\n",
       "    </tr>\n",
       "  </thead>\n",
       "  <tbody>\n",
       "    <tr>\n",
       "      <th>0</th>\n",
       "      <td>2454</td>\n",
       "      <td>5150</td>\n",
       "      <td>U.S.A</td>\n",
       "      <td>2019</td>\n",
       "      <td>Madagascar</td>\n",
       "      <td>Bejofo Estate, batch 1</td>\n",
       "      <td>76.0</td>\n",
       "      <td>3.75</td>\n",
       "      <td>3</td>\n",
       "      <td>have_bean</td>\n",
       "      <td>have_cocoa_butter</td>\n",
       "      <td>have_not_vanila</td>\n",
       "      <td>have_not_lecithin</td>\n",
       "      <td>have_not_salt</td>\n",
       "      <td>have_sugar</td>\n",
       "      <td>have_not_sweetener_without_sugar</td>\n",
       "      <td>cocoa</td>\n",
       "      <td>blackberry</td>\n",
       "      <td>full body</td>\n",
       "      <td>NaN</td>\n",
       "    </tr>\n",
       "    <tr>\n",
       "      <th>1</th>\n",
       "      <td>2458</td>\n",
       "      <td>5150</td>\n",
       "      <td>U.S.A</td>\n",
       "      <td>2019</td>\n",
       "      <td>Dominican republic</td>\n",
       "      <td>Zorzal, batch 1</td>\n",
       "      <td>76.0</td>\n",
       "      <td>3.50</td>\n",
       "      <td>3</td>\n",
       "      <td>have_bean</td>\n",
       "      <td>have_cocoa_butter</td>\n",
       "      <td>have_not_vanila</td>\n",
       "      <td>have_not_lecithin</td>\n",
       "      <td>have_not_salt</td>\n",
       "      <td>have_sugar</td>\n",
       "      <td>have_not_sweetener_without_sugar</td>\n",
       "      <td>cocoa</td>\n",
       "      <td>vegetal</td>\n",
       "      <td>savory</td>\n",
       "      <td>NaN</td>\n",
       "    </tr>\n",
       "    <tr>\n",
       "      <th>2</th>\n",
       "      <td>2454</td>\n",
       "      <td>5150</td>\n",
       "      <td>U.S.A</td>\n",
       "      <td>2019</td>\n",
       "      <td>Tanzania</td>\n",
       "      <td>Kokoa Kamili, batch 1</td>\n",
       "      <td>76.0</td>\n",
       "      <td>3.25</td>\n",
       "      <td>3</td>\n",
       "      <td>have_bean</td>\n",
       "      <td>have_cocoa_butter</td>\n",
       "      <td>have_not_vanila</td>\n",
       "      <td>have_not_lecithin</td>\n",
       "      <td>have_not_salt</td>\n",
       "      <td>have_sugar</td>\n",
       "      <td>have_not_sweetener_without_sugar</td>\n",
       "      <td>rich cocoa</td>\n",
       "      <td>fatty</td>\n",
       "      <td>bready</td>\n",
       "      <td>NaN</td>\n",
       "    </tr>\n",
       "    <tr>\n",
       "      <th>3</th>\n",
       "      <td>797</td>\n",
       "      <td>A. Morin</td>\n",
       "      <td>France</td>\n",
       "      <td>2012</td>\n",
       "      <td>Peru</td>\n",
       "      <td>Peru</td>\n",
       "      <td>63.0</td>\n",
       "      <td>3.75</td>\n",
       "      <td>4</td>\n",
       "      <td>have_bean</td>\n",
       "      <td>have_cocoa_butter</td>\n",
       "      <td>have_not_vanila</td>\n",
       "      <td>have_lecithin</td>\n",
       "      <td>have_not_salt</td>\n",
       "      <td>have_sugar</td>\n",
       "      <td>have_not_sweetener_without_sugar</td>\n",
       "      <td>fruity</td>\n",
       "      <td>melon</td>\n",
       "      <td>roasty</td>\n",
       "      <td>NaN</td>\n",
       "    </tr>\n",
       "    <tr>\n",
       "      <th>4</th>\n",
       "      <td>797</td>\n",
       "      <td>A. Morin</td>\n",
       "      <td>France</td>\n",
       "      <td>2012</td>\n",
       "      <td>Bolivia</td>\n",
       "      <td>Bolivia</td>\n",
       "      <td>70.0</td>\n",
       "      <td>3.50</td>\n",
       "      <td>4</td>\n",
       "      <td>have_bean</td>\n",
       "      <td>have_cocoa_butter</td>\n",
       "      <td>have_not_vanila</td>\n",
       "      <td>have_lecithin</td>\n",
       "      <td>have_not_salt</td>\n",
       "      <td>have_sugar</td>\n",
       "      <td>have_not_sweetener_without_sugar</td>\n",
       "      <td>vegetal</td>\n",
       "      <td>nutty</td>\n",
       "      <td>NaN</td>\n",
       "      <td>NaN</td>\n",
       "    </tr>\n",
       "    <tr>\n",
       "      <th>...</th>\n",
       "      <td>...</td>\n",
       "      <td>...</td>\n",
       "      <td>...</td>\n",
       "      <td>...</td>\n",
       "      <td>...</td>\n",
       "      <td>...</td>\n",
       "      <td>...</td>\n",
       "      <td>...</td>\n",
       "      <td>...</td>\n",
       "      <td>...</td>\n",
       "      <td>...</td>\n",
       "      <td>...</td>\n",
       "      <td>...</td>\n",
       "      <td>...</td>\n",
       "      <td>...</td>\n",
       "      <td>...</td>\n",
       "      <td>...</td>\n",
       "      <td>...</td>\n",
       "      <td>...</td>\n",
       "      <td>...</td>\n",
       "    </tr>\n",
       "    <tr>\n",
       "      <th>2219</th>\n",
       "      <td>1205</td>\n",
       "      <td>Zotter</td>\n",
       "      <td>Austria</td>\n",
       "      <td>2014</td>\n",
       "      <td>Blend</td>\n",
       "      <td>Raw</td>\n",
       "      <td>80.0</td>\n",
       "      <td>2.75</td>\n",
       "      <td>4</td>\n",
       "      <td>have_bean</td>\n",
       "      <td>have_cocoa_butter</td>\n",
       "      <td>have_not_vanila</td>\n",
       "      <td>have_not_lecithin</td>\n",
       "      <td>have_salt</td>\n",
       "      <td>have_not_sugar</td>\n",
       "      <td>have_sweetener_without_sugar</td>\n",
       "      <td>waxy</td>\n",
       "      <td>cloying</td>\n",
       "      <td>vegetal</td>\n",
       "      <td>NaN</td>\n",
       "    </tr>\n",
       "    <tr>\n",
       "      <th>2220</th>\n",
       "      <td>1996</td>\n",
       "      <td>Zotter</td>\n",
       "      <td>Austria</td>\n",
       "      <td>2017</td>\n",
       "      <td>Colombia</td>\n",
       "      <td>APROCAFA, Acandi</td>\n",
       "      <td>75.0</td>\n",
       "      <td>3.75</td>\n",
       "      <td>3</td>\n",
       "      <td>have_bean</td>\n",
       "      <td>have_cocoa_butter</td>\n",
       "      <td>have_not_vanila</td>\n",
       "      <td>have_not_lecithin</td>\n",
       "      <td>have_not_salt</td>\n",
       "      <td>have_sugar</td>\n",
       "      <td>have_not_sweetener_without_sugar</td>\n",
       "      <td>strong nutty</td>\n",
       "      <td>marshmallow</td>\n",
       "      <td>NaN</td>\n",
       "      <td>NaN</td>\n",
       "    </tr>\n",
       "    <tr>\n",
       "      <th>2221</th>\n",
       "      <td>2170</td>\n",
       "      <td>Zotter</td>\n",
       "      <td>Austria</td>\n",
       "      <td>2018</td>\n",
       "      <td>Belize</td>\n",
       "      <td>Maya Mtn</td>\n",
       "      <td>72.0</td>\n",
       "      <td>3.50</td>\n",
       "      <td>3</td>\n",
       "      <td>have_bean</td>\n",
       "      <td>have_cocoa_butter</td>\n",
       "      <td>have_not_vanila</td>\n",
       "      <td>have_not_lecithin</td>\n",
       "      <td>have_not_salt</td>\n",
       "      <td>have_sugar</td>\n",
       "      <td>have_not_sweetener_without_sugar</td>\n",
       "      <td>muted</td>\n",
       "      <td>roasty</td>\n",
       "      <td>accessible</td>\n",
       "      <td>NaN</td>\n",
       "    </tr>\n",
       "    <tr>\n",
       "      <th>2222</th>\n",
       "      <td>2170</td>\n",
       "      <td>Zotter</td>\n",
       "      <td>Austria</td>\n",
       "      <td>2018</td>\n",
       "      <td>Congo</td>\n",
       "      <td>Mountains of the Moon</td>\n",
       "      <td>70.0</td>\n",
       "      <td>3.25</td>\n",
       "      <td>3</td>\n",
       "      <td>have_bean</td>\n",
       "      <td>have_cocoa_butter</td>\n",
       "      <td>have_not_vanila</td>\n",
       "      <td>have_not_lecithin</td>\n",
       "      <td>have_not_salt</td>\n",
       "      <td>have_sugar</td>\n",
       "      <td>have_not_sweetener_without_sugar</td>\n",
       "      <td>fatty</td>\n",
       "      <td>mild nuts</td>\n",
       "      <td>mild fruit</td>\n",
       "      <td>NaN</td>\n",
       "    </tr>\n",
       "    <tr>\n",
       "      <th>2223</th>\n",
       "      <td>2036</td>\n",
       "      <td>Zotter</td>\n",
       "      <td>Austria</td>\n",
       "      <td>2018</td>\n",
       "      <td>Blend</td>\n",
       "      <td>Dry Aged, 30 yr Anniversary bar</td>\n",
       "      <td>75.0</td>\n",
       "      <td>3.00</td>\n",
       "      <td>3</td>\n",
       "      <td>have_bean</td>\n",
       "      <td>have_cocoa_butter</td>\n",
       "      <td>have_not_vanila</td>\n",
       "      <td>have_not_lecithin</td>\n",
       "      <td>have_not_salt</td>\n",
       "      <td>have_sugar</td>\n",
       "      <td>have_not_sweetener_without_sugar</td>\n",
       "      <td>fatty</td>\n",
       "      <td>earthy</td>\n",
       "      <td>cocoa</td>\n",
       "      <td>NaN</td>\n",
       "    </tr>\n",
       "  </tbody>\n",
       "</table>\n",
       "<p>2224 rows × 20 columns</p>\n",
       "</div>"
      ],
      "text/plain": [
       "       ref   company company_location  review_date country_of_bean_origin  \\\n",
       "0     2454      5150            U.S.A         2019             Madagascar   \n",
       "1     2458      5150            U.S.A         2019     Dominican republic   \n",
       "2     2454      5150            U.S.A         2019               Tanzania   \n",
       "3      797  A. Morin           France         2012                   Peru   \n",
       "4      797  A. Morin           France         2012                Bolivia   \n",
       "...    ...       ...              ...          ...                    ...   \n",
       "2219  1205    Zotter          Austria         2014                  Blend   \n",
       "2220  1996    Zotter          Austria         2017               Colombia   \n",
       "2221  2170    Zotter          Austria         2018                 Belize   \n",
       "2222  2170    Zotter          Austria         2018                  Congo   \n",
       "2223  2036    Zotter          Austria         2018                  Blend   \n",
       "\n",
       "     specific_bean_origin_or_bar_name  cocoa_percent  rating  \\\n",
       "0              Bejofo Estate, batch 1           76.0    3.75   \n",
       "1                     Zorzal, batch 1           76.0    3.50   \n",
       "2               Kokoa Kamili, batch 1           76.0    3.25   \n",
       "3                                Peru           63.0    3.75   \n",
       "4                             Bolivia           70.0    3.50   \n",
       "...                               ...            ...     ...   \n",
       "2219                              Raw           80.0    2.75   \n",
       "2220                 APROCAFA, Acandi           75.0    3.75   \n",
       "2221                         Maya Mtn           72.0    3.50   \n",
       "2222            Mountains of the Moon           70.0    3.25   \n",
       "2223  Dry Aged, 30 yr Anniversary bar           75.0    3.00   \n",
       "\n",
       "      counts_of_ingredients      beans       cocoa_butter          vanilla  \\\n",
       "0                         3  have_bean  have_cocoa_butter  have_not_vanila   \n",
       "1                         3  have_bean  have_cocoa_butter  have_not_vanila   \n",
       "2                         3  have_bean  have_cocoa_butter  have_not_vanila   \n",
       "3                         4  have_bean  have_cocoa_butter  have_not_vanila   \n",
       "4                         4  have_bean  have_cocoa_butter  have_not_vanila   \n",
       "...                     ...        ...                ...              ...   \n",
       "2219                      4  have_bean  have_cocoa_butter  have_not_vanila   \n",
       "2220                      3  have_bean  have_cocoa_butter  have_not_vanila   \n",
       "2221                      3  have_bean  have_cocoa_butter  have_not_vanila   \n",
       "2222                      3  have_bean  have_cocoa_butter  have_not_vanila   \n",
       "2223                      3  have_bean  have_cocoa_butter  have_not_vanila   \n",
       "\n",
       "               lecithin           salt           sugar  \\\n",
       "0     have_not_lecithin  have_not_salt      have_sugar   \n",
       "1     have_not_lecithin  have_not_salt      have_sugar   \n",
       "2     have_not_lecithin  have_not_salt      have_sugar   \n",
       "3         have_lecithin  have_not_salt      have_sugar   \n",
       "4         have_lecithin  have_not_salt      have_sugar   \n",
       "...                 ...            ...             ...   \n",
       "2219  have_not_lecithin      have_salt  have_not_sugar   \n",
       "2220  have_not_lecithin  have_not_salt      have_sugar   \n",
       "2221  have_not_lecithin  have_not_salt      have_sugar   \n",
       "2222  have_not_lecithin  have_not_salt      have_sugar   \n",
       "2223  have_not_lecithin  have_not_salt      have_sugar   \n",
       "\n",
       "               sweetener_without_sugar   first_taste second_taste third_taste  \\\n",
       "0     have_not_sweetener_without_sugar         cocoa   blackberry   full body   \n",
       "1     have_not_sweetener_without_sugar         cocoa      vegetal      savory   \n",
       "2     have_not_sweetener_without_sugar    rich cocoa        fatty      bready   \n",
       "3     have_not_sweetener_without_sugar        fruity        melon      roasty   \n",
       "4     have_not_sweetener_without_sugar       vegetal        nutty         NaN   \n",
       "...                                ...           ...          ...         ...   \n",
       "2219      have_sweetener_without_sugar          waxy      cloying     vegetal   \n",
       "2220  have_not_sweetener_without_sugar  strong nutty  marshmallow         NaN   \n",
       "2221  have_not_sweetener_without_sugar         muted       roasty  accessible   \n",
       "2222  have_not_sweetener_without_sugar         fatty    mild nuts  mild fruit   \n",
       "2223  have_not_sweetener_without_sugar         fatty       earthy       cocoa   \n",
       "\n",
       "     fourth_taste  \n",
       "0             NaN  \n",
       "1             NaN  \n",
       "2             NaN  \n",
       "3             NaN  \n",
       "4             NaN  \n",
       "...           ...  \n",
       "2219          NaN  \n",
       "2220          NaN  \n",
       "2221          NaN  \n",
       "2222          NaN  \n",
       "2223          NaN  \n",
       "\n",
       "[2224 rows x 20 columns]"
      ]
     },
     "execution_count": 2,
     "metadata": {},
     "output_type": "execute_result"
    }
   ],
   "source": [
    "df = pd.read_csv('chocolate.csv', index_col=0)\n",
    "df"
   ]
  },
  {
   "cell_type": "code",
   "execution_count": 3,
   "id": "756077fe",
   "metadata": {
    "scrolled": true
   },
   "outputs": [
    {
     "data": {
      "text/plain": [
       "Index(['ref', 'company', 'company_location', 'review_date',\n",
       "       'country_of_bean_origin', 'specific_bean_origin_or_bar_name',\n",
       "       'cocoa_percent', 'rating', 'counts_of_ingredients', 'beans',\n",
       "       'cocoa_butter', 'vanilla', 'lecithin', 'salt', 'sugar',\n",
       "       'sweetener_without_sugar', 'first_taste', 'second_taste', 'third_taste',\n",
       "       'fourth_taste'],\n",
       "      dtype='object')"
      ]
     },
     "execution_count": 3,
     "metadata": {},
     "output_type": "execute_result"
    }
   ],
   "source": [
    "df.columns"
   ]
  },
  {
   "cell_type": "code",
   "execution_count": 4,
   "id": "2f545e0b",
   "metadata": {},
   "outputs": [
    {
     "data": {
      "text/plain": [
       "(2224, 20)"
      ]
     },
     "execution_count": 4,
     "metadata": {},
     "output_type": "execute_result"
    }
   ],
   "source": [
    "df.shape"
   ]
  },
  {
   "cell_type": "code",
   "execution_count": 5,
   "id": "4f9638b2",
   "metadata": {},
   "outputs": [
    {
     "data": {
      "text/html": [
       "<div>\n",
       "<style scoped>\n",
       "    .dataframe tbody tr th:only-of-type {\n",
       "        vertical-align: middle;\n",
       "    }\n",
       "\n",
       "    .dataframe tbody tr th {\n",
       "        vertical-align: top;\n",
       "    }\n",
       "\n",
       "    .dataframe thead th {\n",
       "        text-align: right;\n",
       "    }\n",
       "</style>\n",
       "<table border=\"1\" class=\"dataframe\">\n",
       "  <thead>\n",
       "    <tr style=\"text-align: right;\">\n",
       "      <th></th>\n",
       "      <th>ref</th>\n",
       "      <th>review_date</th>\n",
       "      <th>cocoa_percent</th>\n",
       "      <th>rating</th>\n",
       "      <th>counts_of_ingredients</th>\n",
       "    </tr>\n",
       "  </thead>\n",
       "  <tbody>\n",
       "    <tr>\n",
       "      <th>count</th>\n",
       "      <td>2224.000000</td>\n",
       "      <td>2224.000000</td>\n",
       "      <td>2224.000000</td>\n",
       "      <td>2224.000000</td>\n",
       "      <td>2224.000000</td>\n",
       "    </tr>\n",
       "    <tr>\n",
       "      <th>mean</th>\n",
       "      <td>1337.010342</td>\n",
       "      <td>2013.857914</td>\n",
       "      <td>71.493930</td>\n",
       "      <td>3.198561</td>\n",
       "      <td>3.075989</td>\n",
       "    </tr>\n",
       "    <tr>\n",
       "      <th>std</th>\n",
       "      <td>693.959768</td>\n",
       "      <td>3.582151</td>\n",
       "      <td>5.278253</td>\n",
       "      <td>0.434329</td>\n",
       "      <td>0.929875</td>\n",
       "    </tr>\n",
       "    <tr>\n",
       "      <th>min</th>\n",
       "      <td>5.000000</td>\n",
       "      <td>2006.000000</td>\n",
       "      <td>42.000000</td>\n",
       "      <td>1.000000</td>\n",
       "      <td>1.000000</td>\n",
       "    </tr>\n",
       "    <tr>\n",
       "      <th>25%</th>\n",
       "      <td>776.000000</td>\n",
       "      <td>2011.000000</td>\n",
       "      <td>70.000000</td>\n",
       "      <td>3.000000</td>\n",
       "      <td>2.000000</td>\n",
       "    </tr>\n",
       "    <tr>\n",
       "      <th>50%</th>\n",
       "      <td>1381.000000</td>\n",
       "      <td>2014.000000</td>\n",
       "      <td>70.000000</td>\n",
       "      <td>3.250000</td>\n",
       "      <td>3.000000</td>\n",
       "    </tr>\n",
       "    <tr>\n",
       "      <th>75%</th>\n",
       "      <td>1928.000000</td>\n",
       "      <td>2016.000000</td>\n",
       "      <td>74.000000</td>\n",
       "      <td>3.500000</td>\n",
       "      <td>4.000000</td>\n",
       "    </tr>\n",
       "    <tr>\n",
       "      <th>max</th>\n",
       "      <td>2490.000000</td>\n",
       "      <td>2020.000000</td>\n",
       "      <td>100.000000</td>\n",
       "      <td>4.000000</td>\n",
       "      <td>6.000000</td>\n",
       "    </tr>\n",
       "  </tbody>\n",
       "</table>\n",
       "</div>"
      ],
      "text/plain": [
       "               ref  review_date  cocoa_percent       rating  \\\n",
       "count  2224.000000  2224.000000    2224.000000  2224.000000   \n",
       "mean   1337.010342  2013.857914      71.493930     3.198561   \n",
       "std     693.959768     3.582151       5.278253     0.434329   \n",
       "min       5.000000  2006.000000      42.000000     1.000000   \n",
       "25%     776.000000  2011.000000      70.000000     3.000000   \n",
       "50%    1381.000000  2014.000000      70.000000     3.250000   \n",
       "75%    1928.000000  2016.000000      74.000000     3.500000   \n",
       "max    2490.000000  2020.000000     100.000000     4.000000   \n",
       "\n",
       "       counts_of_ingredients  \n",
       "count            2224.000000  \n",
       "mean                3.075989  \n",
       "std                 0.929875  \n",
       "min                 1.000000  \n",
       "25%                 2.000000  \n",
       "50%                 3.000000  \n",
       "75%                 4.000000  \n",
       "max                 6.000000  "
      ]
     },
     "execution_count": 5,
     "metadata": {},
     "output_type": "execute_result"
    }
   ],
   "source": [
    "df.describe()"
   ]
  },
  {
   "cell_type": "code",
   "execution_count": 6,
   "id": "ed1d213d",
   "metadata": {},
   "outputs": [],
   "source": [
    "# 2224 rows and 20 columns in this dataset. Review date range is 2006-2020.\n",
    "# I divide analysis into three points: \n",
    "#      1. Analysis of companies, location and ratings;\n",
    "#      2. Ingredients;\n",
    "#      3. Taste."
   ]
  },
  {
   "cell_type": "code",
   "execution_count": 7,
   "id": "15036581",
   "metadata": {},
   "outputs": [],
   "source": [
    "# First of all data preparation for analysis and cleaning"
   ]
  },
  {
   "cell_type": "code",
   "execution_count": 8,
   "id": "1f30f20b",
   "metadata": {
    "scrolled": true
   },
   "outputs": [
    {
     "name": "stdout",
     "output_type": "stream",
     "text": [
      "<class 'pandas.core.frame.DataFrame'>\n",
      "Int64Index: 2224 entries, 0 to 2223\n",
      "Data columns (total 20 columns):\n",
      " #   Column                            Non-Null Count  Dtype  \n",
      "---  ------                            --------------  -----  \n",
      " 0   ref                               2224 non-null   int64  \n",
      " 1   company                           2224 non-null   object \n",
      " 2   company_location                  2224 non-null   object \n",
      " 3   review_date                       2224 non-null   int64  \n",
      " 4   country_of_bean_origin            2224 non-null   object \n",
      " 5   specific_bean_origin_or_bar_name  2224 non-null   object \n",
      " 6   cocoa_percent                     2224 non-null   float64\n",
      " 7   rating                            2224 non-null   float64\n",
      " 8   counts_of_ingredients             2224 non-null   int64  \n",
      " 9   beans                             2224 non-null   object \n",
      " 10  cocoa_butter                      2224 non-null   object \n",
      " 11  vanilla                           2224 non-null   object \n",
      " 12  lecithin                          2224 non-null   object \n",
      " 13  salt                              2224 non-null   object \n",
      " 14  sugar                             2224 non-null   object \n",
      " 15  sweetener_without_sugar           2224 non-null   object \n",
      " 16  first_taste                       2224 non-null   object \n",
      " 17  second_taste                      2147 non-null   object \n",
      " 18  third_taste                       1604 non-null   object \n",
      " 19  fourth_taste                      242 non-null    object \n",
      "dtypes: float64(2), int64(3), object(15)\n",
      "memory usage: 364.9+ KB\n"
     ]
    }
   ],
   "source": [
    "df.info()"
   ]
  },
  {
   "cell_type": "code",
   "execution_count": 9,
   "id": "d0342242",
   "metadata": {},
   "outputs": [
    {
     "data": {
      "text/html": [
       "<div>\n",
       "<style scoped>\n",
       "    .dataframe tbody tr th:only-of-type {\n",
       "        vertical-align: middle;\n",
       "    }\n",
       "\n",
       "    .dataframe tbody tr th {\n",
       "        vertical-align: top;\n",
       "    }\n",
       "\n",
       "    .dataframe thead th {\n",
       "        text-align: right;\n",
       "    }\n",
       "</style>\n",
       "<table border=\"1\" class=\"dataframe\">\n",
       "  <thead>\n",
       "    <tr style=\"text-align: right;\">\n",
       "      <th></th>\n",
       "      <th>company_id</th>\n",
       "      <th>company</th>\n",
       "      <th>company_location</th>\n",
       "      <th>review_date</th>\n",
       "      <th>country_of_bean_origin</th>\n",
       "      <th>specific_bean_origin_or_bar_name</th>\n",
       "      <th>cocoa_percent</th>\n",
       "      <th>rating</th>\n",
       "      <th>counts_of_ingredients</th>\n",
       "      <th>beans</th>\n",
       "      <th>cocoa_butter</th>\n",
       "      <th>vanilla</th>\n",
       "      <th>lecithin</th>\n",
       "      <th>salt</th>\n",
       "      <th>sugar</th>\n",
       "      <th>sweetener_without_sugar</th>\n",
       "      <th>first_taste</th>\n",
       "      <th>second_taste</th>\n",
       "      <th>third_taste</th>\n",
       "      <th>fourth_taste</th>\n",
       "    </tr>\n",
       "  </thead>\n",
       "  <tbody>\n",
       "    <tr>\n",
       "      <th>0</th>\n",
       "      <td>2454</td>\n",
       "      <td>5150</td>\n",
       "      <td>U.S.A</td>\n",
       "      <td>2019</td>\n",
       "      <td>Madagascar</td>\n",
       "      <td>Bejofo Estate, batch 1</td>\n",
       "      <td>76.0</td>\n",
       "      <td>3.75</td>\n",
       "      <td>3</td>\n",
       "      <td>have_bean</td>\n",
       "      <td>have_cocoa_butter</td>\n",
       "      <td>have_not_vanila</td>\n",
       "      <td>have_not_lecithin</td>\n",
       "      <td>have_not_salt</td>\n",
       "      <td>have_sugar</td>\n",
       "      <td>have_not_sweetener_without_sugar</td>\n",
       "      <td>cocoa</td>\n",
       "      <td>blackberry</td>\n",
       "      <td>full body</td>\n",
       "      <td>NaN</td>\n",
       "    </tr>\n",
       "    <tr>\n",
       "      <th>1</th>\n",
       "      <td>2458</td>\n",
       "      <td>5150</td>\n",
       "      <td>U.S.A</td>\n",
       "      <td>2019</td>\n",
       "      <td>Dominican republic</td>\n",
       "      <td>Zorzal, batch 1</td>\n",
       "      <td>76.0</td>\n",
       "      <td>3.50</td>\n",
       "      <td>3</td>\n",
       "      <td>have_bean</td>\n",
       "      <td>have_cocoa_butter</td>\n",
       "      <td>have_not_vanila</td>\n",
       "      <td>have_not_lecithin</td>\n",
       "      <td>have_not_salt</td>\n",
       "      <td>have_sugar</td>\n",
       "      <td>have_not_sweetener_without_sugar</td>\n",
       "      <td>cocoa</td>\n",
       "      <td>vegetal</td>\n",
       "      <td>savory</td>\n",
       "      <td>NaN</td>\n",
       "    </tr>\n",
       "    <tr>\n",
       "      <th>2</th>\n",
       "      <td>2454</td>\n",
       "      <td>5150</td>\n",
       "      <td>U.S.A</td>\n",
       "      <td>2019</td>\n",
       "      <td>Tanzania</td>\n",
       "      <td>Kokoa Kamili, batch 1</td>\n",
       "      <td>76.0</td>\n",
       "      <td>3.25</td>\n",
       "      <td>3</td>\n",
       "      <td>have_bean</td>\n",
       "      <td>have_cocoa_butter</td>\n",
       "      <td>have_not_vanila</td>\n",
       "      <td>have_not_lecithin</td>\n",
       "      <td>have_not_salt</td>\n",
       "      <td>have_sugar</td>\n",
       "      <td>have_not_sweetener_without_sugar</td>\n",
       "      <td>rich cocoa</td>\n",
       "      <td>fatty</td>\n",
       "      <td>bready</td>\n",
       "      <td>NaN</td>\n",
       "    </tr>\n",
       "    <tr>\n",
       "      <th>3</th>\n",
       "      <td>797</td>\n",
       "      <td>A. Morin</td>\n",
       "      <td>France</td>\n",
       "      <td>2012</td>\n",
       "      <td>Peru</td>\n",
       "      <td>Peru</td>\n",
       "      <td>63.0</td>\n",
       "      <td>3.75</td>\n",
       "      <td>4</td>\n",
       "      <td>have_bean</td>\n",
       "      <td>have_cocoa_butter</td>\n",
       "      <td>have_not_vanila</td>\n",
       "      <td>have_lecithin</td>\n",
       "      <td>have_not_salt</td>\n",
       "      <td>have_sugar</td>\n",
       "      <td>have_not_sweetener_without_sugar</td>\n",
       "      <td>fruity</td>\n",
       "      <td>melon</td>\n",
       "      <td>roasty</td>\n",
       "      <td>NaN</td>\n",
       "    </tr>\n",
       "    <tr>\n",
       "      <th>4</th>\n",
       "      <td>797</td>\n",
       "      <td>A. Morin</td>\n",
       "      <td>France</td>\n",
       "      <td>2012</td>\n",
       "      <td>Bolivia</td>\n",
       "      <td>Bolivia</td>\n",
       "      <td>70.0</td>\n",
       "      <td>3.50</td>\n",
       "      <td>4</td>\n",
       "      <td>have_bean</td>\n",
       "      <td>have_cocoa_butter</td>\n",
       "      <td>have_not_vanila</td>\n",
       "      <td>have_lecithin</td>\n",
       "      <td>have_not_salt</td>\n",
       "      <td>have_sugar</td>\n",
       "      <td>have_not_sweetener_without_sugar</td>\n",
       "      <td>vegetal</td>\n",
       "      <td>nutty</td>\n",
       "      <td>NaN</td>\n",
       "      <td>NaN</td>\n",
       "    </tr>\n",
       "    <tr>\n",
       "      <th>...</th>\n",
       "      <td>...</td>\n",
       "      <td>...</td>\n",
       "      <td>...</td>\n",
       "      <td>...</td>\n",
       "      <td>...</td>\n",
       "      <td>...</td>\n",
       "      <td>...</td>\n",
       "      <td>...</td>\n",
       "      <td>...</td>\n",
       "      <td>...</td>\n",
       "      <td>...</td>\n",
       "      <td>...</td>\n",
       "      <td>...</td>\n",
       "      <td>...</td>\n",
       "      <td>...</td>\n",
       "      <td>...</td>\n",
       "      <td>...</td>\n",
       "      <td>...</td>\n",
       "      <td>...</td>\n",
       "      <td>...</td>\n",
       "    </tr>\n",
       "    <tr>\n",
       "      <th>2219</th>\n",
       "      <td>1205</td>\n",
       "      <td>Zotter</td>\n",
       "      <td>Austria</td>\n",
       "      <td>2014</td>\n",
       "      <td>Blend</td>\n",
       "      <td>Raw</td>\n",
       "      <td>80.0</td>\n",
       "      <td>2.75</td>\n",
       "      <td>4</td>\n",
       "      <td>have_bean</td>\n",
       "      <td>have_cocoa_butter</td>\n",
       "      <td>have_not_vanila</td>\n",
       "      <td>have_not_lecithin</td>\n",
       "      <td>have_salt</td>\n",
       "      <td>have_not_sugar</td>\n",
       "      <td>have_sweetener_without_sugar</td>\n",
       "      <td>waxy</td>\n",
       "      <td>cloying</td>\n",
       "      <td>vegetal</td>\n",
       "      <td>NaN</td>\n",
       "    </tr>\n",
       "    <tr>\n",
       "      <th>2220</th>\n",
       "      <td>1996</td>\n",
       "      <td>Zotter</td>\n",
       "      <td>Austria</td>\n",
       "      <td>2017</td>\n",
       "      <td>Colombia</td>\n",
       "      <td>APROCAFA, Acandi</td>\n",
       "      <td>75.0</td>\n",
       "      <td>3.75</td>\n",
       "      <td>3</td>\n",
       "      <td>have_bean</td>\n",
       "      <td>have_cocoa_butter</td>\n",
       "      <td>have_not_vanila</td>\n",
       "      <td>have_not_lecithin</td>\n",
       "      <td>have_not_salt</td>\n",
       "      <td>have_sugar</td>\n",
       "      <td>have_not_sweetener_without_sugar</td>\n",
       "      <td>strong nutty</td>\n",
       "      <td>marshmallow</td>\n",
       "      <td>NaN</td>\n",
       "      <td>NaN</td>\n",
       "    </tr>\n",
       "    <tr>\n",
       "      <th>2221</th>\n",
       "      <td>2170</td>\n",
       "      <td>Zotter</td>\n",
       "      <td>Austria</td>\n",
       "      <td>2018</td>\n",
       "      <td>Belize</td>\n",
       "      <td>Maya Mtn</td>\n",
       "      <td>72.0</td>\n",
       "      <td>3.50</td>\n",
       "      <td>3</td>\n",
       "      <td>have_bean</td>\n",
       "      <td>have_cocoa_butter</td>\n",
       "      <td>have_not_vanila</td>\n",
       "      <td>have_not_lecithin</td>\n",
       "      <td>have_not_salt</td>\n",
       "      <td>have_sugar</td>\n",
       "      <td>have_not_sweetener_without_sugar</td>\n",
       "      <td>muted</td>\n",
       "      <td>roasty</td>\n",
       "      <td>accessible</td>\n",
       "      <td>NaN</td>\n",
       "    </tr>\n",
       "    <tr>\n",
       "      <th>2222</th>\n",
       "      <td>2170</td>\n",
       "      <td>Zotter</td>\n",
       "      <td>Austria</td>\n",
       "      <td>2018</td>\n",
       "      <td>Congo</td>\n",
       "      <td>Mountains of the Moon</td>\n",
       "      <td>70.0</td>\n",
       "      <td>3.25</td>\n",
       "      <td>3</td>\n",
       "      <td>have_bean</td>\n",
       "      <td>have_cocoa_butter</td>\n",
       "      <td>have_not_vanila</td>\n",
       "      <td>have_not_lecithin</td>\n",
       "      <td>have_not_salt</td>\n",
       "      <td>have_sugar</td>\n",
       "      <td>have_not_sweetener_without_sugar</td>\n",
       "      <td>fatty</td>\n",
       "      <td>mild nuts</td>\n",
       "      <td>mild fruit</td>\n",
       "      <td>NaN</td>\n",
       "    </tr>\n",
       "    <tr>\n",
       "      <th>2223</th>\n",
       "      <td>2036</td>\n",
       "      <td>Zotter</td>\n",
       "      <td>Austria</td>\n",
       "      <td>2018</td>\n",
       "      <td>Blend</td>\n",
       "      <td>Dry Aged, 30 yr Anniversary bar</td>\n",
       "      <td>75.0</td>\n",
       "      <td>3.00</td>\n",
       "      <td>3</td>\n",
       "      <td>have_bean</td>\n",
       "      <td>have_cocoa_butter</td>\n",
       "      <td>have_not_vanila</td>\n",
       "      <td>have_not_lecithin</td>\n",
       "      <td>have_not_salt</td>\n",
       "      <td>have_sugar</td>\n",
       "      <td>have_not_sweetener_without_sugar</td>\n",
       "      <td>fatty</td>\n",
       "      <td>earthy</td>\n",
       "      <td>cocoa</td>\n",
       "      <td>NaN</td>\n",
       "    </tr>\n",
       "  </tbody>\n",
       "</table>\n",
       "<p>2224 rows × 20 columns</p>\n",
       "</div>"
      ],
      "text/plain": [
       "      company_id   company company_location  review_date  \\\n",
       "0           2454      5150            U.S.A         2019   \n",
       "1           2458      5150            U.S.A         2019   \n",
       "2           2454      5150            U.S.A         2019   \n",
       "3            797  A. Morin           France         2012   \n",
       "4            797  A. Morin           France         2012   \n",
       "...          ...       ...              ...          ...   \n",
       "2219        1205    Zotter          Austria         2014   \n",
       "2220        1996    Zotter          Austria         2017   \n",
       "2221        2170    Zotter          Austria         2018   \n",
       "2222        2170    Zotter          Austria         2018   \n",
       "2223        2036    Zotter          Austria         2018   \n",
       "\n",
       "     country_of_bean_origin specific_bean_origin_or_bar_name  cocoa_percent  \\\n",
       "0                Madagascar           Bejofo Estate, batch 1           76.0   \n",
       "1        Dominican republic                  Zorzal, batch 1           76.0   \n",
       "2                  Tanzania            Kokoa Kamili, batch 1           76.0   \n",
       "3                      Peru                             Peru           63.0   \n",
       "4                   Bolivia                          Bolivia           70.0   \n",
       "...                     ...                              ...            ...   \n",
       "2219                  Blend                              Raw           80.0   \n",
       "2220               Colombia                 APROCAFA, Acandi           75.0   \n",
       "2221                 Belize                         Maya Mtn           72.0   \n",
       "2222                  Congo            Mountains of the Moon           70.0   \n",
       "2223                  Blend  Dry Aged, 30 yr Anniversary bar           75.0   \n",
       "\n",
       "      rating  counts_of_ingredients      beans       cocoa_butter  \\\n",
       "0       3.75                      3  have_bean  have_cocoa_butter   \n",
       "1       3.50                      3  have_bean  have_cocoa_butter   \n",
       "2       3.25                      3  have_bean  have_cocoa_butter   \n",
       "3       3.75                      4  have_bean  have_cocoa_butter   \n",
       "4       3.50                      4  have_bean  have_cocoa_butter   \n",
       "...      ...                    ...        ...                ...   \n",
       "2219    2.75                      4  have_bean  have_cocoa_butter   \n",
       "2220    3.75                      3  have_bean  have_cocoa_butter   \n",
       "2221    3.50                      3  have_bean  have_cocoa_butter   \n",
       "2222    3.25                      3  have_bean  have_cocoa_butter   \n",
       "2223    3.00                      3  have_bean  have_cocoa_butter   \n",
       "\n",
       "              vanilla           lecithin           salt           sugar  \\\n",
       "0     have_not_vanila  have_not_lecithin  have_not_salt      have_sugar   \n",
       "1     have_not_vanila  have_not_lecithin  have_not_salt      have_sugar   \n",
       "2     have_not_vanila  have_not_lecithin  have_not_salt      have_sugar   \n",
       "3     have_not_vanila      have_lecithin  have_not_salt      have_sugar   \n",
       "4     have_not_vanila      have_lecithin  have_not_salt      have_sugar   \n",
       "...               ...                ...            ...             ...   \n",
       "2219  have_not_vanila  have_not_lecithin      have_salt  have_not_sugar   \n",
       "2220  have_not_vanila  have_not_lecithin  have_not_salt      have_sugar   \n",
       "2221  have_not_vanila  have_not_lecithin  have_not_salt      have_sugar   \n",
       "2222  have_not_vanila  have_not_lecithin  have_not_salt      have_sugar   \n",
       "2223  have_not_vanila  have_not_lecithin  have_not_salt      have_sugar   \n",
       "\n",
       "               sweetener_without_sugar   first_taste second_taste third_taste  \\\n",
       "0     have_not_sweetener_without_sugar         cocoa   blackberry   full body   \n",
       "1     have_not_sweetener_without_sugar         cocoa      vegetal      savory   \n",
       "2     have_not_sweetener_without_sugar    rich cocoa        fatty      bready   \n",
       "3     have_not_sweetener_without_sugar        fruity        melon      roasty   \n",
       "4     have_not_sweetener_without_sugar       vegetal        nutty         NaN   \n",
       "...                                ...           ...          ...         ...   \n",
       "2219      have_sweetener_without_sugar          waxy      cloying     vegetal   \n",
       "2220  have_not_sweetener_without_sugar  strong nutty  marshmallow         NaN   \n",
       "2221  have_not_sweetener_without_sugar         muted       roasty  accessible   \n",
       "2222  have_not_sweetener_without_sugar         fatty    mild nuts  mild fruit   \n",
       "2223  have_not_sweetener_without_sugar         fatty       earthy       cocoa   \n",
       "\n",
       "     fourth_taste  \n",
       "0             NaN  \n",
       "1             NaN  \n",
       "2             NaN  \n",
       "3             NaN  \n",
       "4             NaN  \n",
       "...           ...  \n",
       "2219          NaN  \n",
       "2220          NaN  \n",
       "2221          NaN  \n",
       "2222          NaN  \n",
       "2223          NaN  \n",
       "\n",
       "[2224 rows x 20 columns]"
      ]
     },
     "execution_count": 9,
     "metadata": {},
     "output_type": "execute_result"
    }
   ],
   "source": [
    "df = df.rename(columns ={\"ref\": \"company_id\"})\n",
    "df"
   ]
  },
  {
   "cell_type": "code",
   "execution_count": 10,
   "id": "3cf8d588",
   "metadata": {
    "scrolled": true
   },
   "outputs": [
    {
     "data": {
      "text/plain": [
       "fourth_taste                        1982\n",
       "third_taste                          620\n",
       "second_taste                          77\n",
       "company                                0\n",
       "first_taste                            0\n",
       "sweetener_without_sugar                0\n",
       "sugar                                  0\n",
       "salt                                   0\n",
       "lecithin                               0\n",
       "vanilla                                0\n",
       "company_id                             0\n",
       "beans                                  0\n",
       "counts_of_ingredients                  0\n",
       "rating                                 0\n",
       "cocoa_percent                          0\n",
       "specific_bean_origin_or_bar_name       0\n",
       "country_of_bean_origin                 0\n",
       "review_date                            0\n",
       "company_location                       0\n",
       "cocoa_butter                           0\n",
       "dtype: int64"
      ]
     },
     "execution_count": 10,
     "metadata": {},
     "output_type": "execute_result"
    }
   ],
   "source": [
    "# Count of NaN values:\n",
    "\n",
    "df.isna().sum().sort_values(ascending=False)"
   ]
  },
  {
   "cell_type": "code",
   "execution_count": 11,
   "id": "8f9a9e0d",
   "metadata": {},
   "outputs": [],
   "source": [
    "# I will change chocolate ingredients results to boolean type, to make easier analysis. "
   ]
  },
  {
   "cell_type": "code",
   "execution_count": 12,
   "id": "8949da55",
   "metadata": {},
   "outputs": [
    {
     "data": {
      "text/plain": [
       "have_bean    2224\n",
       "Name: beans, dtype: int64"
      ]
     },
     "execution_count": 12,
     "metadata": {},
     "output_type": "execute_result"
    }
   ],
   "source": [
    "# First of all I will check names of values, to know what kind of change I need to make\n",
    "\n",
    "df['beans'].value_counts() "
   ]
  },
  {
   "cell_type": "code",
   "execution_count": 13,
   "id": "29e510ef",
   "metadata": {},
   "outputs": [
    {
     "data": {
      "text/plain": [
       "True    2224\n",
       "Name: beans, dtype: int64"
      ]
     },
     "execution_count": 13,
     "metadata": {},
     "output_type": "execute_result"
    }
   ],
   "source": [
    "# I made the change using .map function\n",
    "# I print new values and compare with old ones if numbers are correct\n",
    "\n",
    "df['beans'] = df['beans'].map({'have_bean': True, 'no_bean': False})  \n",
    "df['beans'].value_counts()"
   ]
  },
  {
   "cell_type": "code",
   "execution_count": 14,
   "id": "fc4992b4",
   "metadata": {},
   "outputs": [
    {
     "data": {
      "text/plain": [
       "have_cocoa_butter        1535\n",
       "have_not_cocoa_butter     689\n",
       "Name: cocoa_butter, dtype: int64"
      ]
     },
     "execution_count": 14,
     "metadata": {},
     "output_type": "execute_result"
    }
   ],
   "source": [
    "# I am making the same steps for each ingredients\n",
    "\n",
    "df['cocoa_butter'].value_counts()  "
   ]
  },
  {
   "cell_type": "code",
   "execution_count": 15,
   "id": "a697df23",
   "metadata": {},
   "outputs": [
    {
     "data": {
      "text/plain": [
       "True     1535\n",
       "False     689\n",
       "Name: cocoa_butter, dtype: int64"
      ]
     },
     "execution_count": 15,
     "metadata": {},
     "output_type": "execute_result"
    }
   ],
   "source": [
    "df['cocoa_butter'] = df['cocoa_butter'].map({'have_cocoa_butter': True, 'have_not_cocoa_butter': False})\n",
    "df['cocoa_butter'].value_counts()"
   ]
  },
  {
   "cell_type": "code",
   "execution_count": 16,
   "id": "cae2edb8",
   "metadata": {},
   "outputs": [
    {
     "data": {
      "text/plain": [
       "have_not_vanila    1876\n",
       "have_vanila         348\n",
       "Name: vanilla, dtype: int64"
      ]
     },
     "execution_count": 16,
     "metadata": {},
     "output_type": "execute_result"
    }
   ],
   "source": [
    "df['vanilla'].value_counts()"
   ]
  },
  {
   "cell_type": "code",
   "execution_count": 17,
   "id": "0edc68cb",
   "metadata": {},
   "outputs": [
    {
     "data": {
      "text/plain": [
       "False    1876\n",
       "True      348\n",
       "Name: vanilla, dtype: int64"
      ]
     },
     "execution_count": 17,
     "metadata": {},
     "output_type": "execute_result"
    }
   ],
   "source": [
    "df['vanilla'] = df['vanilla'].map({'have_vanila': True, 'have_not_vanila': False})\n",
    "df['vanilla'].value_counts()"
   ]
  },
  {
   "cell_type": "code",
   "execution_count": 18,
   "id": "6ed0b089",
   "metadata": {},
   "outputs": [
    {
     "data": {
      "text/plain": [
       "have_not_lecithin    1745\n",
       "have_lecithin         479\n",
       "Name: lecithin, dtype: int64"
      ]
     },
     "execution_count": 18,
     "metadata": {},
     "output_type": "execute_result"
    }
   ],
   "source": [
    "df['lecithin'].value_counts()"
   ]
  },
  {
   "cell_type": "code",
   "execution_count": 19,
   "id": "44dc1f54",
   "metadata": {},
   "outputs": [
    {
     "data": {
      "text/plain": [
       "False    1745\n",
       "True      479\n",
       "Name: lecithin, dtype: int64"
      ]
     },
     "execution_count": 19,
     "metadata": {},
     "output_type": "execute_result"
    }
   ],
   "source": [
    "df['lecithin'] = df['lecithin'].map({'have_lecithin': True, 'have_not_lecithin': False})\n",
    "df['lecithin'].value_counts()"
   ]
  },
  {
   "cell_type": "code",
   "execution_count": 20,
   "id": "ed699aca",
   "metadata": {},
   "outputs": [
    {
     "data": {
      "text/plain": [
       "have_not_salt    2187\n",
       "have_salt          37\n",
       "Name: salt, dtype: int64"
      ]
     },
     "execution_count": 20,
     "metadata": {},
     "output_type": "execute_result"
    }
   ],
   "source": [
    "df['salt'].value_counts()"
   ]
  },
  {
   "cell_type": "code",
   "execution_count": 21,
   "id": "453d523d",
   "metadata": {},
   "outputs": [
    {
     "data": {
      "text/plain": [
       "False    2187\n",
       "True       37\n",
       "Name: salt, dtype: int64"
      ]
     },
     "execution_count": 21,
     "metadata": {},
     "output_type": "execute_result"
    }
   ],
   "source": [
    "df['salt'] = df['salt'].map({'have_salt': True, 'have_not_salt': False})\n",
    "df['salt'].value_counts()"
   ]
  },
  {
   "cell_type": "code",
   "execution_count": 22,
   "id": "0b1eed49",
   "metadata": {},
   "outputs": [
    {
     "data": {
      "text/plain": [
       "have_sugar        2142\n",
       "have_not_sugar      82\n",
       "Name: sugar, dtype: int64"
      ]
     },
     "execution_count": 22,
     "metadata": {},
     "output_type": "execute_result"
    }
   ],
   "source": [
    "df['sugar'].value_counts()"
   ]
  },
  {
   "cell_type": "code",
   "execution_count": 23,
   "id": "35743c38",
   "metadata": {},
   "outputs": [
    {
     "data": {
      "text/plain": [
       "True     2142\n",
       "False      82\n",
       "Name: sugar, dtype: int64"
      ]
     },
     "execution_count": 23,
     "metadata": {},
     "output_type": "execute_result"
    }
   ],
   "source": [
    "df['sugar'] = df['sugar'].map({'have_sugar': True, 'have_not_sugar': False})\n",
    "df['sugar'].value_counts()"
   ]
  },
  {
   "cell_type": "code",
   "execution_count": 24,
   "id": "94eaaef9",
   "metadata": {},
   "outputs": [
    {
     "data": {
      "text/plain": [
       "have_not_sweetener_without_sugar    2148\n",
       "have_sweetener_without_sugar          76\n",
       "Name: sweetener_without_sugar, dtype: int64"
      ]
     },
     "execution_count": 24,
     "metadata": {},
     "output_type": "execute_result"
    }
   ],
   "source": [
    "df['sweetener_without_sugar'].value_counts()"
   ]
  },
  {
   "cell_type": "code",
   "execution_count": 25,
   "id": "a18d2f30",
   "metadata": {},
   "outputs": [
    {
     "data": {
      "text/plain": [
       "False    2148\n",
       "True       76\n",
       "Name: sweetener_without_sugar, dtype: int64"
      ]
     },
     "execution_count": 25,
     "metadata": {},
     "output_type": "execute_result"
    }
   ],
   "source": [
    "df['sweetener_without_sugar'] = df['sweetener_without_sugar'].map({'have_sweetener_without_sugar': True, 'have_not_sweetener_without_sugar': False})\n",
    "df['sweetener_without_sugar'].value_counts()"
   ]
  },
  {
   "cell_type": "code",
   "execution_count": 26,
   "id": "db41e35f",
   "metadata": {
    "scrolled": true
   },
   "outputs": [
    {
     "data": {
      "text/plain": [
       "company_id                            int64\n",
       "company                              object\n",
       "company_location                     object\n",
       "review_date                           int64\n",
       "country_of_bean_origin               object\n",
       "specific_bean_origin_or_bar_name     object\n",
       "cocoa_percent                       float64\n",
       "rating                              float64\n",
       "counts_of_ingredients                 int64\n",
       "beans                                  bool\n",
       "cocoa_butter                           bool\n",
       "vanilla                                bool\n",
       "lecithin                               bool\n",
       "salt                                   bool\n",
       "sugar                                  bool\n",
       "sweetener_without_sugar                bool\n",
       "first_taste                          object\n",
       "second_taste                         object\n",
       "third_taste                          object\n",
       "fourth_taste                         object\n",
       "dtype: object"
      ]
     },
     "execution_count": 26,
     "metadata": {},
     "output_type": "execute_result"
    }
   ],
   "source": [
    "df.dtypes"
   ]
  },
  {
   "cell_type": "code",
   "execution_count": 27,
   "id": "55402eb3",
   "metadata": {},
   "outputs": [
    {
     "data": {
      "text/html": [
       "<div>\n",
       "<style scoped>\n",
       "    .dataframe tbody tr th:only-of-type {\n",
       "        vertical-align: middle;\n",
       "    }\n",
       "\n",
       "    .dataframe tbody tr th {\n",
       "        vertical-align: top;\n",
       "    }\n",
       "\n",
       "    .dataframe thead th {\n",
       "        text-align: right;\n",
       "    }\n",
       "</style>\n",
       "<table border=\"1\" class=\"dataframe\">\n",
       "  <thead>\n",
       "    <tr style=\"text-align: right;\">\n",
       "      <th></th>\n",
       "      <th>company_id</th>\n",
       "      <th>company</th>\n",
       "      <th>company_location</th>\n",
       "      <th>review_date</th>\n",
       "      <th>country_of_bean_origin</th>\n",
       "      <th>specific_bean_origin_or_bar_name</th>\n",
       "      <th>cocoa_percent</th>\n",
       "      <th>rating</th>\n",
       "      <th>counts_of_ingredients</th>\n",
       "      <th>beans</th>\n",
       "      <th>cocoa_butter</th>\n",
       "      <th>vanilla</th>\n",
       "      <th>lecithin</th>\n",
       "      <th>salt</th>\n",
       "      <th>sugar</th>\n",
       "      <th>sweetener_without_sugar</th>\n",
       "      <th>first_taste</th>\n",
       "      <th>second_taste</th>\n",
       "      <th>third_taste</th>\n",
       "      <th>fourth_taste</th>\n",
       "    </tr>\n",
       "  </thead>\n",
       "  <tbody>\n",
       "    <tr>\n",
       "      <th>0</th>\n",
       "      <td>2454</td>\n",
       "      <td>5150</td>\n",
       "      <td>U.S.A</td>\n",
       "      <td>2019</td>\n",
       "      <td>Madagascar</td>\n",
       "      <td>Bejofo Estate, batch 1</td>\n",
       "      <td>76.0</td>\n",
       "      <td>3.75</td>\n",
       "      <td>3</td>\n",
       "      <td>True</td>\n",
       "      <td>True</td>\n",
       "      <td>False</td>\n",
       "      <td>False</td>\n",
       "      <td>False</td>\n",
       "      <td>True</td>\n",
       "      <td>False</td>\n",
       "      <td>cocoa</td>\n",
       "      <td>blackberry</td>\n",
       "      <td>full body</td>\n",
       "      <td>NaN</td>\n",
       "    </tr>\n",
       "    <tr>\n",
       "      <th>1</th>\n",
       "      <td>2458</td>\n",
       "      <td>5150</td>\n",
       "      <td>U.S.A</td>\n",
       "      <td>2019</td>\n",
       "      <td>Dominican republic</td>\n",
       "      <td>Zorzal, batch 1</td>\n",
       "      <td>76.0</td>\n",
       "      <td>3.50</td>\n",
       "      <td>3</td>\n",
       "      <td>True</td>\n",
       "      <td>True</td>\n",
       "      <td>False</td>\n",
       "      <td>False</td>\n",
       "      <td>False</td>\n",
       "      <td>True</td>\n",
       "      <td>False</td>\n",
       "      <td>cocoa</td>\n",
       "      <td>vegetal</td>\n",
       "      <td>savory</td>\n",
       "      <td>NaN</td>\n",
       "    </tr>\n",
       "    <tr>\n",
       "      <th>2</th>\n",
       "      <td>2454</td>\n",
       "      <td>5150</td>\n",
       "      <td>U.S.A</td>\n",
       "      <td>2019</td>\n",
       "      <td>Tanzania</td>\n",
       "      <td>Kokoa Kamili, batch 1</td>\n",
       "      <td>76.0</td>\n",
       "      <td>3.25</td>\n",
       "      <td>3</td>\n",
       "      <td>True</td>\n",
       "      <td>True</td>\n",
       "      <td>False</td>\n",
       "      <td>False</td>\n",
       "      <td>False</td>\n",
       "      <td>True</td>\n",
       "      <td>False</td>\n",
       "      <td>rich cocoa</td>\n",
       "      <td>fatty</td>\n",
       "      <td>bready</td>\n",
       "      <td>NaN</td>\n",
       "    </tr>\n",
       "    <tr>\n",
       "      <th>3</th>\n",
       "      <td>797</td>\n",
       "      <td>A. Morin</td>\n",
       "      <td>France</td>\n",
       "      <td>2012</td>\n",
       "      <td>Peru</td>\n",
       "      <td>Peru</td>\n",
       "      <td>63.0</td>\n",
       "      <td>3.75</td>\n",
       "      <td>4</td>\n",
       "      <td>True</td>\n",
       "      <td>True</td>\n",
       "      <td>False</td>\n",
       "      <td>True</td>\n",
       "      <td>False</td>\n",
       "      <td>True</td>\n",
       "      <td>False</td>\n",
       "      <td>fruity</td>\n",
       "      <td>melon</td>\n",
       "      <td>roasty</td>\n",
       "      <td>NaN</td>\n",
       "    </tr>\n",
       "    <tr>\n",
       "      <th>4</th>\n",
       "      <td>797</td>\n",
       "      <td>A. Morin</td>\n",
       "      <td>France</td>\n",
       "      <td>2012</td>\n",
       "      <td>Bolivia</td>\n",
       "      <td>Bolivia</td>\n",
       "      <td>70.0</td>\n",
       "      <td>3.50</td>\n",
       "      <td>4</td>\n",
       "      <td>True</td>\n",
       "      <td>True</td>\n",
       "      <td>False</td>\n",
       "      <td>True</td>\n",
       "      <td>False</td>\n",
       "      <td>True</td>\n",
       "      <td>False</td>\n",
       "      <td>vegetal</td>\n",
       "      <td>nutty</td>\n",
       "      <td>NaN</td>\n",
       "      <td>NaN</td>\n",
       "    </tr>\n",
       "    <tr>\n",
       "      <th>...</th>\n",
       "      <td>...</td>\n",
       "      <td>...</td>\n",
       "      <td>...</td>\n",
       "      <td>...</td>\n",
       "      <td>...</td>\n",
       "      <td>...</td>\n",
       "      <td>...</td>\n",
       "      <td>...</td>\n",
       "      <td>...</td>\n",
       "      <td>...</td>\n",
       "      <td>...</td>\n",
       "      <td>...</td>\n",
       "      <td>...</td>\n",
       "      <td>...</td>\n",
       "      <td>...</td>\n",
       "      <td>...</td>\n",
       "      <td>...</td>\n",
       "      <td>...</td>\n",
       "      <td>...</td>\n",
       "      <td>...</td>\n",
       "    </tr>\n",
       "    <tr>\n",
       "      <th>2219</th>\n",
       "      <td>1205</td>\n",
       "      <td>Zotter</td>\n",
       "      <td>Austria</td>\n",
       "      <td>2014</td>\n",
       "      <td>Blend</td>\n",
       "      <td>Raw</td>\n",
       "      <td>80.0</td>\n",
       "      <td>2.75</td>\n",
       "      <td>4</td>\n",
       "      <td>True</td>\n",
       "      <td>True</td>\n",
       "      <td>False</td>\n",
       "      <td>False</td>\n",
       "      <td>True</td>\n",
       "      <td>False</td>\n",
       "      <td>True</td>\n",
       "      <td>waxy</td>\n",
       "      <td>cloying</td>\n",
       "      <td>vegetal</td>\n",
       "      <td>NaN</td>\n",
       "    </tr>\n",
       "    <tr>\n",
       "      <th>2220</th>\n",
       "      <td>1996</td>\n",
       "      <td>Zotter</td>\n",
       "      <td>Austria</td>\n",
       "      <td>2017</td>\n",
       "      <td>Colombia</td>\n",
       "      <td>APROCAFA, Acandi</td>\n",
       "      <td>75.0</td>\n",
       "      <td>3.75</td>\n",
       "      <td>3</td>\n",
       "      <td>True</td>\n",
       "      <td>True</td>\n",
       "      <td>False</td>\n",
       "      <td>False</td>\n",
       "      <td>False</td>\n",
       "      <td>True</td>\n",
       "      <td>False</td>\n",
       "      <td>strong nutty</td>\n",
       "      <td>marshmallow</td>\n",
       "      <td>NaN</td>\n",
       "      <td>NaN</td>\n",
       "    </tr>\n",
       "    <tr>\n",
       "      <th>2221</th>\n",
       "      <td>2170</td>\n",
       "      <td>Zotter</td>\n",
       "      <td>Austria</td>\n",
       "      <td>2018</td>\n",
       "      <td>Belize</td>\n",
       "      <td>Maya Mtn</td>\n",
       "      <td>72.0</td>\n",
       "      <td>3.50</td>\n",
       "      <td>3</td>\n",
       "      <td>True</td>\n",
       "      <td>True</td>\n",
       "      <td>False</td>\n",
       "      <td>False</td>\n",
       "      <td>False</td>\n",
       "      <td>True</td>\n",
       "      <td>False</td>\n",
       "      <td>muted</td>\n",
       "      <td>roasty</td>\n",
       "      <td>accessible</td>\n",
       "      <td>NaN</td>\n",
       "    </tr>\n",
       "    <tr>\n",
       "      <th>2222</th>\n",
       "      <td>2170</td>\n",
       "      <td>Zotter</td>\n",
       "      <td>Austria</td>\n",
       "      <td>2018</td>\n",
       "      <td>Congo</td>\n",
       "      <td>Mountains of the Moon</td>\n",
       "      <td>70.0</td>\n",
       "      <td>3.25</td>\n",
       "      <td>3</td>\n",
       "      <td>True</td>\n",
       "      <td>True</td>\n",
       "      <td>False</td>\n",
       "      <td>False</td>\n",
       "      <td>False</td>\n",
       "      <td>True</td>\n",
       "      <td>False</td>\n",
       "      <td>fatty</td>\n",
       "      <td>mild nuts</td>\n",
       "      <td>mild fruit</td>\n",
       "      <td>NaN</td>\n",
       "    </tr>\n",
       "    <tr>\n",
       "      <th>2223</th>\n",
       "      <td>2036</td>\n",
       "      <td>Zotter</td>\n",
       "      <td>Austria</td>\n",
       "      <td>2018</td>\n",
       "      <td>Blend</td>\n",
       "      <td>Dry Aged, 30 yr Anniversary bar</td>\n",
       "      <td>75.0</td>\n",
       "      <td>3.00</td>\n",
       "      <td>3</td>\n",
       "      <td>True</td>\n",
       "      <td>True</td>\n",
       "      <td>False</td>\n",
       "      <td>False</td>\n",
       "      <td>False</td>\n",
       "      <td>True</td>\n",
       "      <td>False</td>\n",
       "      <td>fatty</td>\n",
       "      <td>earthy</td>\n",
       "      <td>cocoa</td>\n",
       "      <td>NaN</td>\n",
       "    </tr>\n",
       "  </tbody>\n",
       "</table>\n",
       "<p>2224 rows × 20 columns</p>\n",
       "</div>"
      ],
      "text/plain": [
       "      company_id   company company_location  review_date  \\\n",
       "0           2454      5150            U.S.A         2019   \n",
       "1           2458      5150            U.S.A         2019   \n",
       "2           2454      5150            U.S.A         2019   \n",
       "3            797  A. Morin           France         2012   \n",
       "4            797  A. Morin           France         2012   \n",
       "...          ...       ...              ...          ...   \n",
       "2219        1205    Zotter          Austria         2014   \n",
       "2220        1996    Zotter          Austria         2017   \n",
       "2221        2170    Zotter          Austria         2018   \n",
       "2222        2170    Zotter          Austria         2018   \n",
       "2223        2036    Zotter          Austria         2018   \n",
       "\n",
       "     country_of_bean_origin specific_bean_origin_or_bar_name  cocoa_percent  \\\n",
       "0                Madagascar           Bejofo Estate, batch 1           76.0   \n",
       "1        Dominican republic                  Zorzal, batch 1           76.0   \n",
       "2                  Tanzania            Kokoa Kamili, batch 1           76.0   \n",
       "3                      Peru                             Peru           63.0   \n",
       "4                   Bolivia                          Bolivia           70.0   \n",
       "...                     ...                              ...            ...   \n",
       "2219                  Blend                              Raw           80.0   \n",
       "2220               Colombia                 APROCAFA, Acandi           75.0   \n",
       "2221                 Belize                         Maya Mtn           72.0   \n",
       "2222                  Congo            Mountains of the Moon           70.0   \n",
       "2223                  Blend  Dry Aged, 30 yr Anniversary bar           75.0   \n",
       "\n",
       "      rating  counts_of_ingredients  beans  cocoa_butter  vanilla  lecithin  \\\n",
       "0       3.75                      3   True          True    False     False   \n",
       "1       3.50                      3   True          True    False     False   \n",
       "2       3.25                      3   True          True    False     False   \n",
       "3       3.75                      4   True          True    False      True   \n",
       "4       3.50                      4   True          True    False      True   \n",
       "...      ...                    ...    ...           ...      ...       ...   \n",
       "2219    2.75                      4   True          True    False     False   \n",
       "2220    3.75                      3   True          True    False     False   \n",
       "2221    3.50                      3   True          True    False     False   \n",
       "2222    3.25                      3   True          True    False     False   \n",
       "2223    3.00                      3   True          True    False     False   \n",
       "\n",
       "       salt  sugar  sweetener_without_sugar   first_taste second_taste  \\\n",
       "0     False   True                    False         cocoa   blackberry   \n",
       "1     False   True                    False         cocoa      vegetal   \n",
       "2     False   True                    False    rich cocoa        fatty   \n",
       "3     False   True                    False        fruity        melon   \n",
       "4     False   True                    False       vegetal        nutty   \n",
       "...     ...    ...                      ...           ...          ...   \n",
       "2219   True  False                     True          waxy      cloying   \n",
       "2220  False   True                    False  strong nutty  marshmallow   \n",
       "2221  False   True                    False         muted       roasty   \n",
       "2222  False   True                    False         fatty    mild nuts   \n",
       "2223  False   True                    False         fatty       earthy   \n",
       "\n",
       "     third_taste fourth_taste  \n",
       "0      full body          NaN  \n",
       "1         savory          NaN  \n",
       "2         bready          NaN  \n",
       "3         roasty          NaN  \n",
       "4            NaN          NaN  \n",
       "...          ...          ...  \n",
       "2219     vegetal          NaN  \n",
       "2220         NaN          NaN  \n",
       "2221  accessible          NaN  \n",
       "2222  mild fruit          NaN  \n",
       "2223       cocoa          NaN  \n",
       "\n",
       "[2224 rows x 20 columns]"
      ]
     },
     "execution_count": 27,
     "metadata": {},
     "output_type": "execute_result"
    }
   ],
   "source": [
    "df"
   ]
  },
  {
   "cell_type": "code",
   "execution_count": 28,
   "id": "fc3f7b73",
   "metadata": {},
   "outputs": [],
   "source": [
    "# 1. Analysis of companies, location and ratings"
   ]
  },
  {
   "cell_type": "code",
   "execution_count": 29,
   "id": "ab7ac476",
   "metadata": {
    "scrolled": false
   },
   "outputs": [
    {
     "data": {
      "text/plain": [
       "company_location\n",
       "U.S.A          948\n",
       "France         167\n",
       "Canada         158\n",
       "U.k.           117\n",
       "Italy           67\n",
       "Belgium         56\n",
       "Australia       51\n",
       "Ecuador         50\n",
       "Switzerland     43\n",
       "Germany         39\n",
       "Name: company, dtype: int64"
      ]
     },
     "execution_count": 29,
     "metadata": {},
     "output_type": "execute_result"
    }
   ],
   "source": [
    "# 1.1. TOP 10 countries having most of chocolate production companies\n",
    "\n",
    "countries_by_count_of_companies = df.groupby('company_location')['company'].count().sort_values(ascending=False).head(10)\n",
    "countries_by_count_of_companies"
   ]
  },
  {
   "cell_type": "code",
   "execution_count": 30,
   "id": "100673fb",
   "metadata": {
    "scrolled": true
   },
   "outputs": [
    {
     "data": {
      "text/plain": [
       "<AxesSubplot:title={'center':'TOP 10 countries having most of chocolate production companies'}, ylabel='company_location'>"
      ]
     },
     "execution_count": 30,
     "metadata": {},
     "output_type": "execute_result"
    },
    {
     "data": {
      "image/png": "[encoded data removed]",
      "text/plain": [
       "<Figure size 432x288 with 1 Axes>"
      ]
     },
     "metadata": {
      "needs_background": "light"
     },
     "output_type": "display_data"
    }
   ],
   "source": [
    "countries_by_count_of_companies.sort_values().plot(\n",
    "                                                    kind=\"barh\", \n",
    "                                                    width=0.9,\n",
    "                                                    color='tab:brown', \n",
    "                                                    title=\"TOP 10 countries having most of chocolate production companies\")"
   ]
  },
  {
   "cell_type": "code",
   "execution_count": 31,
   "id": "62f72e40",
   "metadata": {
    "scrolled": true
   },
   "outputs": [
    {
     "data": {
      "text/plain": [
       "country_of_bean_origin\n",
       "Venezuela             238\n",
       "Peru                  207\n",
       "Dominican republic    200\n",
       "Ecuador               194\n",
       "Madagascar            157\n",
       "Blend                 140\n",
       "Nicaragua              92\n",
       "Brazil                 74\n",
       "Bolivia                71\n",
       "Colombia               65\n",
       "Name: country_of_bean_origin, dtype: int64"
      ]
     },
     "execution_count": 31,
     "metadata": {},
     "output_type": "execute_result"
    }
   ],
   "source": [
    "# 1.2. TOP 10 most of the beans growing countries\n",
    "\n",
    "count_of_bean_country = df.groupby('country_of_bean_origin')['country_of_bean_origin'].count().sort_values(ascending=False).head(10)\n",
    "count_of_bean_country"
   ]
  },
  {
   "cell_type": "code",
   "execution_count": 32,
   "id": "eccfa47f",
   "metadata": {
    "scrolled": true
   },
   "outputs": [
    {
     "data": {
      "text/plain": [
       "<AxesSubplot:title={'center':'TOP 10 most of the beans growing countries'}, ylabel='country_of_bean_origin'>"
      ]
     },
     "execution_count": 32,
     "metadata": {},
     "output_type": "execute_result"
    },
    {
     "data": {
      "image/png": "[encoded data removed]",
      "text/plain": [
       "<Figure size 432x288 with 1 Axes>"
      ]
     },
     "metadata": {
      "needs_background": "light"
     },
     "output_type": "display_data"
    }
   ],
   "source": [
    "count_of_bean_country.sort_values().plot.barh(\n",
    "                                            color='tab:brown',\n",
    "                                            width=0.9,\n",
    "                                            title=\"TOP 10 most of the beans growing countries\")"
   ]
  },
  {
   "cell_type": "code",
   "execution_count": 33,
   "id": "80ed80f4",
   "metadata": {
    "scrolled": true
   },
   "outputs": [
    {
     "data": {
      "text/plain": [
       "company\n",
       "Heirloom Cacao Preservation (Zokoko)    3.875000\n",
       "Ocelot                                  3.875000\n",
       "Matale                                  3.812500\n",
       "Patric                                  3.791667\n",
       "Idilio (Felchlin)                       3.775000\n",
       "Name: rating, dtype: float64"
      ]
     },
     "execution_count": 33,
     "metadata": {},
     "output_type": "execute_result"
    }
   ],
   "source": [
    "# 1.3. Rating Scale:\n",
    "#             4.0 - 5.0 = Outstanding\n",
    "#             3.5 - 3.9 = Highly Recommended\n",
    "#             3.0 - 3.49 = Recommended\n",
    "#             2.0 - 2.9 = Disappointing\n",
    "#             1.0 - 1.9 = Unpleasant\n",
    "# Companies has highest average rating:\n",
    "\n",
    "TOP5_companies_by_rating = df.groupby('company')['rating'].mean().sort_values(ascending=False).head(5)\n",
    "TOP5_companies_by_rating"
   ]
  },
  {
   "cell_type": "code",
   "execution_count": 34,
   "id": "bedd3427",
   "metadata": {
    "scrolled": true
   },
   "outputs": [
    {
     "data": {
      "text/plain": [
       "<AxesSubplot:title={'center':'TOP 5 companies with highest average rating'}, ylabel='company'>"
      ]
     },
     "execution_count": 34,
     "metadata": {},
     "output_type": "execute_result"
    },
    {
     "data": {
      "image/png": "[encoded data removed]",
      "text/plain": [
       "<Figure size 432x288 with 1 Axes>"
      ]
     },
     "metadata": {
      "needs_background": "light"
     },
     "output_type": "display_data"
    }
   ],
   "source": [
    "TOP5_companies_by_rating.sort_values().plot.barh(\n",
    "                                            color='chocolate', \n",
    "                                            title=\"TOP 5 companies with highest average rating\")"
   ]
  },
  {
   "cell_type": "code",
   "execution_count": 35,
   "id": "58701884",
   "metadata": {
    "scrolled": true
   },
   "outputs": [
    {
     "data": {
      "text/html": [
       "<style type=\"text/css\">\n",
       "#T_a489b_row2_col2, #T_a489b_row4_col2 {\n",
       "  background-color: tan;\n",
       "}\n",
       "</style>\n",
       "<table id=\"T_a489b\">\n",
       "  <thead>\n",
       "    <tr>\n",
       "      <th class=\"blank level0\" >&nbsp;</th>\n",
       "      <th id=\"T_a489b_level0_col0\" class=\"col_heading level0 col0\" >company</th>\n",
       "      <th id=\"T_a489b_level0_col1\" class=\"col_heading level0 col1\" >country_of_bean_origin</th>\n",
       "      <th id=\"T_a489b_level0_col2\" class=\"col_heading level0 col2\" >cocoa_percent</th>\n",
       "      <th id=\"T_a489b_level0_col3\" class=\"col_heading level0 col3\" >rating</th>\n",
       "    </tr>\n",
       "  </thead>\n",
       "  <tbody>\n",
       "    <tr>\n",
       "      <th id=\"T_a489b_level0_row0\" class=\"row_heading level0 row0\" >1006</th>\n",
       "      <td id=\"T_a489b_row0_col0\" class=\"data row0 col0\" >Heirloom Cacao Preservation (Zokoko)</td>\n",
       "      <td id=\"T_a489b_row0_col1\" class=\"data row0 col1\" >Bolivia</td>\n",
       "      <td id=\"T_a489b_row0_col2\" class=\"data row0 col2\" >72.000000</td>\n",
       "      <td id=\"T_a489b_row0_col3\" class=\"data row0 col3\" >4.000000</td>\n",
       "    </tr>\n",
       "    <tr>\n",
       "      <th id=\"T_a489b_level0_row1\" class=\"row_heading level0 row1\" >1352</th>\n",
       "      <td id=\"T_a489b_row1_col0\" class=\"data row1 col0\" >Matale</td>\n",
       "      <td id=\"T_a489b_row1_col1\" class=\"data row1 col1\" >Papua new guinea</td>\n",
       "      <td id=\"T_a489b_row1_col2\" class=\"data row1 col2\" >74.000000</td>\n",
       "      <td id=\"T_a489b_row1_col3\" class=\"data row1 col3\" >4.000000</td>\n",
       "    </tr>\n",
       "    <tr>\n",
       "      <th id=\"T_a489b_level0_row2\" class=\"row_heading level0 row2\" >1602</th>\n",
       "      <td id=\"T_a489b_row2_col0\" class=\"data row2 col0\" >Patric</td>\n",
       "      <td id=\"T_a489b_row2_col1\" class=\"data row2 col1\" >Madagascar</td>\n",
       "      <td id=\"T_a489b_row2_col2\" class=\"data row2 col2\" >75.000000</td>\n",
       "      <td id=\"T_a489b_row2_col3\" class=\"data row2 col3\" >4.000000</td>\n",
       "    </tr>\n",
       "    <tr>\n",
       "      <th id=\"T_a489b_level0_row3\" class=\"row_heading level0 row3\" >1601</th>\n",
       "      <td id=\"T_a489b_row3_col0\" class=\"data row3 col0\" >Patric</td>\n",
       "      <td id=\"T_a489b_row3_col1\" class=\"data row3 col1\" >Madagascar</td>\n",
       "      <td id=\"T_a489b_row3_col2\" class=\"data row3 col2\" >70.000000</td>\n",
       "      <td id=\"T_a489b_row3_col3\" class=\"data row3 col3\" >4.000000</td>\n",
       "    </tr>\n",
       "    <tr>\n",
       "      <th id=\"T_a489b_level0_row4\" class=\"row_heading level0 row4\" >1513</th>\n",
       "      <td id=\"T_a489b_row4_col0\" class=\"data row4 col0\" >Ocelot</td>\n",
       "      <td id=\"T_a489b_row4_col1\" class=\"data row4 col1\" >Peru</td>\n",
       "      <td id=\"T_a489b_row4_col2\" class=\"data row4 col2\" >75.000000</td>\n",
       "      <td id=\"T_a489b_row4_col3\" class=\"data row4 col3\" >4.000000</td>\n",
       "    </tr>\n",
       "    <tr>\n",
       "      <th id=\"T_a489b_level0_row5\" class=\"row_heading level0 row5\" >1351</th>\n",
       "      <td id=\"T_a489b_row5_col0\" class=\"data row5 col0\" >Matale</td>\n",
       "      <td id=\"T_a489b_row5_col1\" class=\"data row5 col1\" >Madagascar</td>\n",
       "      <td id=\"T_a489b_row5_col2\" class=\"data row5 col2\" >68.000000</td>\n",
       "      <td id=\"T_a489b_row5_col3\" class=\"data row5 col3\" >4.000000</td>\n",
       "    </tr>\n",
       "    <tr>\n",
       "      <th id=\"T_a489b_level0_row6\" class=\"row_heading level0 row6\" >1606</th>\n",
       "      <td id=\"T_a489b_row6_col0\" class=\"data row6 col0\" >Patric</td>\n",
       "      <td id=\"T_a489b_row6_col1\" class=\"data row6 col1\" >Peru</td>\n",
       "      <td id=\"T_a489b_row6_col2\" class=\"data row6 col2\" >67.000000</td>\n",
       "      <td id=\"T_a489b_row6_col3\" class=\"data row6 col3\" >4.000000</td>\n",
       "    </tr>\n",
       "    <tr>\n",
       "      <th id=\"T_a489b_level0_row7\" class=\"row_heading level0 row7\" >1068</th>\n",
       "      <td id=\"T_a489b_row7_col0\" class=\"data row7 col0\" >Idilio (Felchlin)</td>\n",
       "      <td id=\"T_a489b_row7_col1\" class=\"data row7 col1\" >Venezuela</td>\n",
       "      <td id=\"T_a489b_row7_col2\" class=\"data row7 col2\" >74.000000</td>\n",
       "      <td id=\"T_a489b_row7_col3\" class=\"data row7 col3\" >4.000000</td>\n",
       "    </tr>\n",
       "    <tr>\n",
       "      <th id=\"T_a489b_level0_row8\" class=\"row_heading level0 row8\" >1069</th>\n",
       "      <td id=\"T_a489b_row8_col0\" class=\"data row8 col0\" >Idilio (Felchlin)</td>\n",
       "      <td id=\"T_a489b_row8_col1\" class=\"data row8 col1\" >Venezuela</td>\n",
       "      <td id=\"T_a489b_row8_col2\" class=\"data row8 col2\" >70.000000</td>\n",
       "      <td id=\"T_a489b_row8_col3\" class=\"data row8 col3\" >4.000000</td>\n",
       "    </tr>\n",
       "    <tr>\n",
       "      <th id=\"T_a489b_level0_row9\" class=\"row_heading level0 row9\" >1071</th>\n",
       "      <td id=\"T_a489b_row9_col0\" class=\"data row9 col0\" >Idilio (Felchlin)</td>\n",
       "      <td id=\"T_a489b_row9_col1\" class=\"data row9 col1\" >Venezuela</td>\n",
       "      <td id=\"T_a489b_row9_col2\" class=\"data row9 col2\" >72.000000</td>\n",
       "      <td id=\"T_a489b_row9_col3\" class=\"data row9 col3\" >4.000000</td>\n",
       "    </tr>\n",
       "    <tr>\n",
       "      <th id=\"T_a489b_level0_row10\" class=\"row_heading level0 row10\" >1070</th>\n",
       "      <td id=\"T_a489b_row10_col0\" class=\"data row10 col0\" >Idilio (Felchlin)</td>\n",
       "      <td id=\"T_a489b_row10_col1\" class=\"data row10 col1\" >Venezuela</td>\n",
       "      <td id=\"T_a489b_row10_col2\" class=\"data row10 col2\" >72.000000</td>\n",
       "      <td id=\"T_a489b_row10_col3\" class=\"data row10 col3\" >4.000000</td>\n",
       "    </tr>\n",
       "    <tr>\n",
       "      <th id=\"T_a489b_level0_row11\" class=\"row_heading level0 row11\" >1073</th>\n",
       "      <td id=\"T_a489b_row11_col0\" class=\"data row11 col0\" >Idilio (Felchlin)</td>\n",
       "      <td id=\"T_a489b_row11_col1\" class=\"data row11 col1\" >Venezuela</td>\n",
       "      <td id=\"T_a489b_row11_col2\" class=\"data row11 col2\" >72.000000</td>\n",
       "      <td id=\"T_a489b_row11_col3\" class=\"data row11 col3\" >3.750000</td>\n",
       "    </tr>\n",
       "    <tr>\n",
       "      <th id=\"T_a489b_level0_row12\" class=\"row_heading level0 row12\" >1605</th>\n",
       "      <td id=\"T_a489b_row12_col0\" class=\"data row12 col0\" >Patric</td>\n",
       "      <td id=\"T_a489b_row12_col1\" class=\"data row12 col1\" >Blend</td>\n",
       "      <td id=\"T_a489b_row12_col2\" class=\"data row12 col2\" >70.000000</td>\n",
       "      <td id=\"T_a489b_row12_col3\" class=\"data row12 col3\" >3.750000</td>\n",
       "    </tr>\n",
       "    <tr>\n",
       "      <th id=\"T_a489b_level0_row13\" class=\"row_heading level0 row13\" >1514</th>\n",
       "      <td id=\"T_a489b_row13_col0\" class=\"data row13 col0\" >Ocelot</td>\n",
       "      <td id=\"T_a489b_row13_col1\" class=\"data row13 col1\" >Congo</td>\n",
       "      <td id=\"T_a489b_row13_col2\" class=\"data row13 col2\" >70.000000</td>\n",
       "      <td id=\"T_a489b_row13_col3\" class=\"data row13 col3\" >3.750000</td>\n",
       "    </tr>\n",
       "    <tr>\n",
       "      <th id=\"T_a489b_level0_row14\" class=\"row_heading level0 row14\" >1072</th>\n",
       "      <td id=\"T_a489b_row14_col0\" class=\"data row14 col0\" >Idilio (Felchlin)</td>\n",
       "      <td id=\"T_a489b_row14_col1\" class=\"data row14 col1\" >Venezuela</td>\n",
       "      <td id=\"T_a489b_row14_col2\" class=\"data row14 col2\" >72.000000</td>\n",
       "      <td id=\"T_a489b_row14_col3\" class=\"data row14 col3\" >3.750000</td>\n",
       "    </tr>\n",
       "    <tr>\n",
       "      <th id=\"T_a489b_level0_row15\" class=\"row_heading level0 row15\" >1353</th>\n",
       "      <td id=\"T_a489b_row15_col0\" class=\"data row15 col0\" >Matale</td>\n",
       "      <td id=\"T_a489b_row15_col1\" class=\"data row15 col1\" >Blend</td>\n",
       "      <td id=\"T_a489b_row15_col2\" class=\"data row15 col2\" >70.000000</td>\n",
       "      <td id=\"T_a489b_row15_col3\" class=\"data row15 col3\" >3.750000</td>\n",
       "    </tr>\n",
       "    <tr>\n",
       "      <th id=\"T_a489b_level0_row16\" class=\"row_heading level0 row16\" >1007</th>\n",
       "      <td id=\"T_a489b_row16_col0\" class=\"data row16 col0\" >Heirloom Cacao Preservation (Zokoko)</td>\n",
       "      <td id=\"T_a489b_row16_col1\" class=\"data row16 col1\" >Bolivia</td>\n",
       "      <td id=\"T_a489b_row16_col2\" class=\"data row16 col2\" >68.000000</td>\n",
       "      <td id=\"T_a489b_row16_col3\" class=\"data row16 col3\" >3.750000</td>\n",
       "    </tr>\n",
       "    <tr>\n",
       "      <th id=\"T_a489b_level0_row17\" class=\"row_heading level0 row17\" >1077</th>\n",
       "      <td id=\"T_a489b_row17_col0\" class=\"data row17 col0\" >Idilio (Felchlin)</td>\n",
       "      <td id=\"T_a489b_row17_col1\" class=\"data row17 col1\" >Venezuela</td>\n",
       "      <td id=\"T_a489b_row17_col2\" class=\"data row17 col2\" >72.000000</td>\n",
       "      <td id=\"T_a489b_row17_col3\" class=\"data row17 col3\" >3.750000</td>\n",
       "    </tr>\n",
       "    <tr>\n",
       "      <th id=\"T_a489b_level0_row18\" class=\"row_heading level0 row18\" >1074</th>\n",
       "      <td id=\"T_a489b_row18_col0\" class=\"data row18 col0\" >Idilio (Felchlin)</td>\n",
       "      <td id=\"T_a489b_row18_col1\" class=\"data row18 col1\" >Venezuela</td>\n",
       "      <td id=\"T_a489b_row18_col2\" class=\"data row18 col2\" >72.000000</td>\n",
       "      <td id=\"T_a489b_row18_col3\" class=\"data row18 col3\" >3.750000</td>\n",
       "    </tr>\n",
       "    <tr>\n",
       "      <th id=\"T_a489b_level0_row19\" class=\"row_heading level0 row19\" >1075</th>\n",
       "      <td id=\"T_a489b_row19_col0\" class=\"data row19 col0\" >Idilio (Felchlin)</td>\n",
       "      <td id=\"T_a489b_row19_col1\" class=\"data row19 col1\" >Venezuela</td>\n",
       "      <td id=\"T_a489b_row19_col2\" class=\"data row19 col2\" >72.000000</td>\n",
       "      <td id=\"T_a489b_row19_col3\" class=\"data row19 col3\" >3.500000</td>\n",
       "    </tr>\n",
       "    <tr>\n",
       "      <th id=\"T_a489b_level0_row20\" class=\"row_heading level0 row20\" >1603</th>\n",
       "      <td id=\"T_a489b_row20_col0\" class=\"data row20 col0\" >Patric</td>\n",
       "      <td id=\"T_a489b_row20_col1\" class=\"data row20 col1\" >Madagascar</td>\n",
       "      <td id=\"T_a489b_row20_col2\" class=\"data row20 col2\" >67.000000</td>\n",
       "      <td id=\"T_a489b_row20_col3\" class=\"data row20 col3\" >3.500000</td>\n",
       "    </tr>\n",
       "    <tr>\n",
       "      <th id=\"T_a489b_level0_row21\" class=\"row_heading level0 row21\" >1604</th>\n",
       "      <td id=\"T_a489b_row21_col0\" class=\"data row21 col0\" >Patric</td>\n",
       "      <td id=\"T_a489b_row21_col1\" class=\"data row21 col1\" >Venezuela</td>\n",
       "      <td id=\"T_a489b_row21_col2\" class=\"data row21 col2\" >70.000000</td>\n",
       "      <td id=\"T_a489b_row21_col3\" class=\"data row21 col3\" >3.500000</td>\n",
       "    </tr>\n",
       "    <tr>\n",
       "      <th id=\"T_a489b_level0_row22\" class=\"row_heading level0 row22\" >1354</th>\n",
       "      <td id=\"T_a489b_row22_col0\" class=\"data row22 col0\" >Matale</td>\n",
       "      <td id=\"T_a489b_row22_col1\" class=\"data row22 col1\" >Vanuatu</td>\n",
       "      <td id=\"T_a489b_row22_col2\" class=\"data row22 col2\" >72.000000</td>\n",
       "      <td id=\"T_a489b_row22_col3\" class=\"data row22 col3\" >3.500000</td>\n",
       "    </tr>\n",
       "  </tbody>\n",
       "</table>\n"
      ],
      "text/plain": [
       "<pandas.io.formats.style.Styler at 0x27ef97cbd60>"
      ]
     },
     "execution_count": 35,
     "metadata": {},
     "output_type": "execute_result"
    }
   ],
   "source": [
    "# 1.3.1. Outstanding, Highly Recommended Chocolate bars producers table:\n",
    "\n",
    "TOP5_companies_by_rating = df[(df['rating'] >= 3.5) & (df['company'].isin(['Heirloom Cacao Preservation (Zokoko)', 'Ocelot', 'Matale', 'Patric', 'Idilio (Felchlin)']))][['company', 'country_of_bean_origin', 'cocoa_percent', 'rating']]\n",
    "TOP5_companies_by_rating.sort_values('rating')\n",
    "\n",
    "TOP5_companies_by_rating.sort_values('rating', ascending=False).style.highlight_max(subset=['cocoa_percent'], color='tan')"
   ]
  },
  {
   "cell_type": "code",
   "execution_count": 36,
   "id": "2048421e",
   "metadata": {
    "scrolled": false
   },
   "outputs": [
    {
     "data": {
      "image/png": "[encoded data removed]",
      "text/plain": [
       "<Figure size 936x432 with 6 Axes>"
      ]
     },
     "metadata": {
      "needs_background": "light"
     },
     "output_type": "display_data"
    }
   ],
   "source": [
    "f = sns.pairplot(TOP5_companies_by_rating, hue=\"company\")\n",
    "f.fig.set_size_inches(13,6)"
   ]
  },
  {
   "cell_type": "code",
   "execution_count": 37,
   "id": "2d8f543b",
   "metadata": {},
   "outputs": [
    {
     "data": {
      "text/plain": [
       "company_location\n",
       "Chile        3.750000\n",
       "Argentina    3.500000\n",
       "Sao tome     3.500000\n",
       "Poland       3.500000\n",
       "U.a.e.       3.375000\n",
       "Australia    3.367647\n",
       "Guatemala    3.350000\n",
       "Denmark      3.338710\n",
       "Norway       3.333333\n",
       "Vietnam      3.333333\n",
       "Name: rating, dtype: float64"
      ]
     },
     "execution_count": 37,
     "metadata": {},
     "output_type": "execute_result"
    }
   ],
   "source": [
    "# 1.4. TOP 10 countries producing the highest-rated chocolate bars\n",
    "\n",
    "rating_by_countries = df.groupby('company_location')['rating'].mean().sort_values(ascending=False).iloc[:10]\n",
    "rating_by_countries"
   ]
  },
  {
   "cell_type": "code",
   "execution_count": 38,
   "id": "e26a00e2",
   "metadata": {},
   "outputs": [
    {
     "data": {
      "text/plain": [
       "<AxesSubplot:title={'center':'TOP 10 countries producing the highest-rated chocolate bars'}, ylabel='company_location'>"
      ]
     },
     "execution_count": 38,
     "metadata": {},
     "output_type": "execute_result"
    },
    {
     "data": {
      "image/png": "[encoded data removed]",
      "text/plain": [
       "<Figure size 432x288 with 1 Axes>"
      ]
     },
     "metadata": {
      "needs_background": "light"
     },
     "output_type": "display_data"
    }
   ],
   "source": [
    "rating_by_countries.sort_values().plot.barh(color='tab:brown', title=\"TOP 10 countries producing the highest-rated chocolate bars\")"
   ]
  },
  {
   "cell_type": "code",
   "execution_count": 39,
   "id": "92e09ffc",
   "metadata": {
    "scrolled": true
   },
   "outputs": [
    {
     "data": {
      "text/plain": [
       "review_date\n",
       "2017    3.362745\n",
       "2011    3.271242\n",
       "2015    3.243750\n",
       "2016    3.236047\n",
       "2013    3.214888\n",
       "2012    3.206944\n",
       "2014    3.197531\n",
       "2018    3.191556\n",
       "2010    3.188830\n",
       "2007    3.166667\n",
       "2020    3.159091\n",
       "2019    3.133333\n",
       "2009    3.088496\n",
       "2006    3.062500\n",
       "2008    3.038690\n",
       "Name: rating, dtype: float64"
      ]
     },
     "execution_count": 39,
     "metadata": {},
     "output_type": "execute_result"
    }
   ],
   "source": [
    "# 1.5. Review_date by rating\n",
    "\n",
    "review_date_by_average_rating = df.groupby('review_date')['rating'].mean().sort_values(ascending=False)\n",
    "review_date_by_average_rating\n",
    "\n",
    "# Best average rating of chocolate bars was in 2017 year. Probably this year was the best for cocoa beans to grow."
   ]
  },
  {
   "cell_type": "code",
   "execution_count": 40,
   "id": "cc2a8d8e",
   "metadata": {
    "scrolled": true
   },
   "outputs": [
    {
     "data": {
      "image/png": "[encoded data removed]",
      "text/plain": [
       "<Figure size 432x288 with 1 Axes>"
      ]
     },
     "metadata": {},
     "output_type": "display_data"
    }
   ],
   "source": [
    "sns.set_theme(style=\"whitegrid\", palette=\"rocket\")\n",
    "review_date_by_average_rating = sns.lineplot(data=df, x=\"review_date\", y=\"rating\").set(title=\"Review date by average rating\")"
   ]
  },
  {
   "cell_type": "code",
   "execution_count": 41,
   "id": "7fc51d92",
   "metadata": {
    "scrolled": false
   },
   "outputs": [
    {
     "data": {
      "text/plain": [
       "cocoa_percent\n",
       "50.0    3.750000\n",
       "63.0    3.520833\n",
       "69.0    3.479167\n",
       "78.0    3.387500\n",
       "66.0    3.355769\n",
       "67.0    3.325000\n",
       "88.0    3.285714\n",
       "68.0    3.275424\n",
       "70.0    3.265321\n",
       "87.0    3.250000\n",
       "Name: rating, dtype: float64"
      ]
     },
     "execution_count": 41,
     "metadata": {},
     "output_type": "execute_result"
    }
   ],
   "source": [
    "# 1.6. Cocoa percent by rating\n",
    "\n",
    "cocoa_percent_by_rating = df.groupby('cocoa_percent')['rating'].mean().sort_values(ascending=False).head(10)\n",
    "cocoa_percent_by_rating"
   ]
  },
  {
   "cell_type": "code",
   "execution_count": 65,
   "id": "8fcfe45b",
   "metadata": {},
   "outputs": [
    {
     "data": {
      "image/png": "[encoded data removed]",
      "text/plain": [
       "<Figure size 576x432 with 3 Axes>"
      ]
     },
     "metadata": {},
     "output_type": "display_data"
    }
   ],
   "source": [
    "cocoa_percent_by_rating = sns.jointplot(\n",
    "                                x=df.rating, \n",
    "                                y=df.cocoa_percent)\n",
    "\n",
    "cocoa_percent_by_rating.fig.suptitle(\"Cocoa percent by rating\")\n",
    "cocoa_percent_by_rating.fig.tight_layout()\n",
    "cocoa_percent_by_rating.fig.set_figwidth(8)\n",
    "cocoa_percent_by_rating.fig.set_figheight(6)"
   ]
  },
  {
   "cell_type": "code",
   "execution_count": 43,
   "id": "ea9e2689",
   "metadata": {},
   "outputs": [
    {
     "data": {
      "text/html": [
       "<div>\n",
       "<style scoped>\n",
       "    .dataframe tbody tr th:only-of-type {\n",
       "        vertical-align: middle;\n",
       "    }\n",
       "\n",
       "    .dataframe tbody tr th {\n",
       "        vertical-align: top;\n",
       "    }\n",
       "\n",
       "    .dataframe thead th {\n",
       "        text-align: right;\n",
       "    }\n",
       "</style>\n",
       "<table border=\"1\" class=\"dataframe\">\n",
       "  <thead>\n",
       "    <tr style=\"text-align: right;\">\n",
       "      <th></th>\n",
       "      <th>min</th>\n",
       "      <th>max</th>\n",
       "    </tr>\n",
       "    <tr>\n",
       "      <th>country_of_bean_origin</th>\n",
       "      <th></th>\n",
       "      <th></th>\n",
       "    </tr>\n",
       "  </thead>\n",
       "  <tbody>\n",
       "    <tr>\n",
       "      <th>Australia</th>\n",
       "      <td>2.75</td>\n",
       "      <td>3.75</td>\n",
       "    </tr>\n",
       "    <tr>\n",
       "      <th>Belize</th>\n",
       "      <td>2.50</td>\n",
       "      <td>4.00</td>\n",
       "    </tr>\n",
       "    <tr>\n",
       "      <th>Blend</th>\n",
       "      <td>1.00</td>\n",
       "      <td>4.00</td>\n",
       "    </tr>\n",
       "    <tr>\n",
       "      <th>Bolivia</th>\n",
       "      <td>2.00</td>\n",
       "      <td>4.00</td>\n",
       "    </tr>\n",
       "    <tr>\n",
       "      <th>Bolvia</th>\n",
       "      <td>3.25</td>\n",
       "      <td>3.25</td>\n",
       "    </tr>\n",
       "    <tr>\n",
       "      <th>...</th>\n",
       "      <td>...</td>\n",
       "      <td>...</td>\n",
       "    </tr>\n",
       "    <tr>\n",
       "      <th>U.s.a.</th>\n",
       "      <td>2.00</td>\n",
       "      <td>3.75</td>\n",
       "    </tr>\n",
       "    <tr>\n",
       "      <th>Uganda</th>\n",
       "      <td>2.50</td>\n",
       "      <td>3.75</td>\n",
       "    </tr>\n",
       "    <tr>\n",
       "      <th>Vanuatu</th>\n",
       "      <td>2.50</td>\n",
       "      <td>3.75</td>\n",
       "    </tr>\n",
       "    <tr>\n",
       "      <th>Venezuela</th>\n",
       "      <td>2.00</td>\n",
       "      <td>4.00</td>\n",
       "    </tr>\n",
       "    <tr>\n",
       "      <th>Vietnam</th>\n",
       "      <td>2.75</td>\n",
       "      <td>4.00</td>\n",
       "    </tr>\n",
       "  </tbody>\n",
       "</table>\n",
       "<p>62 rows × 2 columns</p>\n",
       "</div>"
      ],
      "text/plain": [
       "                         min   max\n",
       "country_of_bean_origin            \n",
       "Australia               2.75  3.75\n",
       "Belize                  2.50  4.00\n",
       "Blend                   1.00  4.00\n",
       "Bolivia                 2.00  4.00\n",
       "Bolvia                  3.25  3.25\n",
       "...                      ...   ...\n",
       "U.s.a.                  2.00  3.75\n",
       "Uganda                  2.50  3.75\n",
       "Vanuatu                 2.50  3.75\n",
       "Venezuela               2.00  4.00\n",
       "Vietnam                 2.75  4.00\n",
       "\n",
       "[62 rows x 2 columns]"
      ]
     },
     "execution_count": 43,
     "metadata": {},
     "output_type": "execute_result"
    }
   ],
   "source": [
    "min_max_rating_of_bean_origin = df.groupby(\"country_of_bean_origin\")[\"rating\"].agg(['min', 'max'])\n",
    "min_max_rating_of_bean_origin"
   ]
  },
  {
   "cell_type": "code",
   "execution_count": 44,
   "id": "4e25d01f",
   "metadata": {
    "scrolled": false
   },
   "outputs": [
    {
     "data": {
      "text/plain": [
       "<AxesSubplot:title={'center':'Min and max values of rating'}, ylabel='Frequency'>"
      ]
     },
     "execution_count": 44,
     "metadata": {},
     "output_type": "execute_result"
    },
    {
     "data": {
      "image/png": "[encoded data removed]",
      "text/plain": [
       "<Figure size 432x288 with 1 Axes>"
      ]
     },
     "metadata": {},
     "output_type": "display_data"
    }
   ],
   "source": [
    "min_max_rating_of_bean_origin.plot.hist(color=('brown', 'tan'), stacked=True, bins=10, title=\"Min and max values of rating\")"
   ]
  },
  {
   "cell_type": "code",
   "execution_count": 45,
   "id": "85aafb6e",
   "metadata": {},
   "outputs": [],
   "source": [
    "# 2. Analysis of Ingredients"
   ]
  },
  {
   "cell_type": "code",
   "execution_count": 46,
   "id": "0b55293e",
   "metadata": {
    "scrolled": false
   },
   "outputs": [
    {
     "data": {
      "text/html": [
       "<div>\n",
       "<style scoped>\n",
       "    .dataframe tbody tr th:only-of-type {\n",
       "        vertical-align: middle;\n",
       "    }\n",
       "\n",
       "    .dataframe tbody tr th {\n",
       "        vertical-align: top;\n",
       "    }\n",
       "\n",
       "    .dataframe thead th {\n",
       "        text-align: right;\n",
       "    }\n",
       "</style>\n",
       "<table border=\"1\" class=\"dataframe\">\n",
       "  <thead>\n",
       "    <tr style=\"text-align: right;\">\n",
       "      <th></th>\n",
       "      <th>beans</th>\n",
       "      <th>cocoa_butter</th>\n",
       "      <th>vanilla</th>\n",
       "      <th>lecithin</th>\n",
       "      <th>salt</th>\n",
       "      <th>sugar</th>\n",
       "      <th>sweetener_without_sugar</th>\n",
       "    </tr>\n",
       "  </thead>\n",
       "  <tbody>\n",
       "    <tr>\n",
       "      <th>0</th>\n",
       "      <td>True</td>\n",
       "      <td>True</td>\n",
       "      <td>False</td>\n",
       "      <td>False</td>\n",
       "      <td>False</td>\n",
       "      <td>True</td>\n",
       "      <td>False</td>\n",
       "    </tr>\n",
       "    <tr>\n",
       "      <th>1</th>\n",
       "      <td>True</td>\n",
       "      <td>True</td>\n",
       "      <td>False</td>\n",
       "      <td>False</td>\n",
       "      <td>False</td>\n",
       "      <td>True</td>\n",
       "      <td>False</td>\n",
       "    </tr>\n",
       "    <tr>\n",
       "      <th>2</th>\n",
       "      <td>True</td>\n",
       "      <td>True</td>\n",
       "      <td>False</td>\n",
       "      <td>False</td>\n",
       "      <td>False</td>\n",
       "      <td>True</td>\n",
       "      <td>False</td>\n",
       "    </tr>\n",
       "    <tr>\n",
       "      <th>3</th>\n",
       "      <td>True</td>\n",
       "      <td>True</td>\n",
       "      <td>False</td>\n",
       "      <td>True</td>\n",
       "      <td>False</td>\n",
       "      <td>True</td>\n",
       "      <td>False</td>\n",
       "    </tr>\n",
       "    <tr>\n",
       "      <th>4</th>\n",
       "      <td>True</td>\n",
       "      <td>True</td>\n",
       "      <td>False</td>\n",
       "      <td>True</td>\n",
       "      <td>False</td>\n",
       "      <td>True</td>\n",
       "      <td>False</td>\n",
       "    </tr>\n",
       "    <tr>\n",
       "      <th>...</th>\n",
       "      <td>...</td>\n",
       "      <td>...</td>\n",
       "      <td>...</td>\n",
       "      <td>...</td>\n",
       "      <td>...</td>\n",
       "      <td>...</td>\n",
       "      <td>...</td>\n",
       "    </tr>\n",
       "    <tr>\n",
       "      <th>2219</th>\n",
       "      <td>True</td>\n",
       "      <td>True</td>\n",
       "      <td>False</td>\n",
       "      <td>False</td>\n",
       "      <td>True</td>\n",
       "      <td>False</td>\n",
       "      <td>True</td>\n",
       "    </tr>\n",
       "    <tr>\n",
       "      <th>2220</th>\n",
       "      <td>True</td>\n",
       "      <td>True</td>\n",
       "      <td>False</td>\n",
       "      <td>False</td>\n",
       "      <td>False</td>\n",
       "      <td>True</td>\n",
       "      <td>False</td>\n",
       "    </tr>\n",
       "    <tr>\n",
       "      <th>2221</th>\n",
       "      <td>True</td>\n",
       "      <td>True</td>\n",
       "      <td>False</td>\n",
       "      <td>False</td>\n",
       "      <td>False</td>\n",
       "      <td>True</td>\n",
       "      <td>False</td>\n",
       "    </tr>\n",
       "    <tr>\n",
       "      <th>2222</th>\n",
       "      <td>True</td>\n",
       "      <td>True</td>\n",
       "      <td>False</td>\n",
       "      <td>False</td>\n",
       "      <td>False</td>\n",
       "      <td>True</td>\n",
       "      <td>False</td>\n",
       "    </tr>\n",
       "    <tr>\n",
       "      <th>2223</th>\n",
       "      <td>True</td>\n",
       "      <td>True</td>\n",
       "      <td>False</td>\n",
       "      <td>False</td>\n",
       "      <td>False</td>\n",
       "      <td>True</td>\n",
       "      <td>False</td>\n",
       "    </tr>\n",
       "  </tbody>\n",
       "</table>\n",
       "<p>2224 rows × 7 columns</p>\n",
       "</div>"
      ],
      "text/plain": [
       "      beans  cocoa_butter  vanilla  lecithin   salt  sugar  \\\n",
       "0      True          True    False     False  False   True   \n",
       "1      True          True    False     False  False   True   \n",
       "2      True          True    False     False  False   True   \n",
       "3      True          True    False      True  False   True   \n",
       "4      True          True    False      True  False   True   \n",
       "...     ...           ...      ...       ...    ...    ...   \n",
       "2219   True          True    False     False   True  False   \n",
       "2220   True          True    False     False  False   True   \n",
       "2221   True          True    False     False  False   True   \n",
       "2222   True          True    False     False  False   True   \n",
       "2223   True          True    False     False  False   True   \n",
       "\n",
       "      sweetener_without_sugar  \n",
       "0                       False  \n",
       "1                       False  \n",
       "2                       False  \n",
       "3                       False  \n",
       "4                       False  \n",
       "...                       ...  \n",
       "2219                     True  \n",
       "2220                    False  \n",
       "2221                    False  \n",
       "2222                    False  \n",
       "2223                    False  \n",
       "\n",
       "[2224 rows x 7 columns]"
      ]
     },
     "execution_count": 46,
     "metadata": {},
     "output_type": "execute_result"
    }
   ],
   "source": [
    "# 2.1. Ingredients usage (True = +; False = -)\n",
    "\n",
    "df_ingredients = df[['beans', 'cocoa_butter', 'vanilla', 'lecithin', 'salt', 'sugar', 'sweetener_without_sugar']]\n",
    "df_ingredients"
   ]
  },
  {
   "cell_type": "code",
   "execution_count": 47,
   "id": "e784f4b3",
   "metadata": {},
   "outputs": [
    {
     "data": {
      "text/plain": [
       "beans                      100.000000\n",
       "sugar                       96.312950\n",
       "cocoa_butter                69.019784\n",
       "lecithin                    21.537770\n",
       "vanilla                     15.647482\n",
       "sweetener_without_sugar      3.417266\n",
       "salt                         1.663669\n",
       "dtype: float64"
      ]
     },
     "execution_count": 47,
     "metadata": {},
     "output_type": "execute_result"
    }
   ],
   "source": [
    "percentage_of_ingredients = df_ingredients.mean().sort_values(ascending=False) * 100\n",
    "percentage_of_ingredients"
   ]
  },
  {
   "cell_type": "code",
   "execution_count": 48,
   "id": "2d7e44e3",
   "metadata": {
    "scrolled": false
   },
   "outputs": [
    {
     "data": {
      "text/plain": [
       "<AxesSubplot:title={'center':'Average percentage of ingredients usage'}>"
      ]
     },
     "execution_count": 48,
     "metadata": {},
     "output_type": "execute_result"
    },
    {
     "data": {
      "image/png": "[encoded data removed]",
      "text/plain": [
       "<Figure size 432x288 with 1 Axes>"
      ]
     },
     "metadata": {},
     "output_type": "display_data"
    }
   ],
   "source": [
    "percentage_of_ingredients.sort_values().plot.barh(color=\"tab:brown\", title=\"Average percentage of ingredients usage\")"
   ]
  },
  {
   "cell_type": "code",
   "execution_count": 49,
   "id": "34661b1e",
   "metadata": {
    "scrolled": true
   },
   "outputs": [
    {
     "data": {
      "text/html": [
       "<div>\n",
       "<style scoped>\n",
       "    .dataframe tbody tr th:only-of-type {\n",
       "        vertical-align: middle;\n",
       "    }\n",
       "\n",
       "    .dataframe tbody tr th {\n",
       "        vertical-align: top;\n",
       "    }\n",
       "\n",
       "    .dataframe thead th {\n",
       "        text-align: right;\n",
       "    }\n",
       "</style>\n",
       "<table border=\"1\" class=\"dataframe\">\n",
       "  <thead>\n",
       "    <tr style=\"text-align: right;\">\n",
       "      <th></th>\n",
       "      <th>rating</th>\n",
       "      <th>cocoa_butter</th>\n",
       "      <th>vanilla</th>\n",
       "      <th>lecithin</th>\n",
       "      <th>salt</th>\n",
       "      <th>sugar</th>\n",
       "    </tr>\n",
       "  </thead>\n",
       "  <tbody>\n",
       "    <tr>\n",
       "      <th>0</th>\n",
       "      <td>3.75</td>\n",
       "      <td>True</td>\n",
       "      <td>False</td>\n",
       "      <td>False</td>\n",
       "      <td>False</td>\n",
       "      <td>True</td>\n",
       "    </tr>\n",
       "    <tr>\n",
       "      <th>1</th>\n",
       "      <td>3.50</td>\n",
       "      <td>True</td>\n",
       "      <td>False</td>\n",
       "      <td>False</td>\n",
       "      <td>False</td>\n",
       "      <td>True</td>\n",
       "    </tr>\n",
       "    <tr>\n",
       "      <th>2</th>\n",
       "      <td>3.25</td>\n",
       "      <td>True</td>\n",
       "      <td>False</td>\n",
       "      <td>False</td>\n",
       "      <td>False</td>\n",
       "      <td>True</td>\n",
       "    </tr>\n",
       "    <tr>\n",
       "      <th>3</th>\n",
       "      <td>3.75</td>\n",
       "      <td>True</td>\n",
       "      <td>False</td>\n",
       "      <td>True</td>\n",
       "      <td>False</td>\n",
       "      <td>True</td>\n",
       "    </tr>\n",
       "    <tr>\n",
       "      <th>4</th>\n",
       "      <td>3.50</td>\n",
       "      <td>True</td>\n",
       "      <td>False</td>\n",
       "      <td>True</td>\n",
       "      <td>False</td>\n",
       "      <td>True</td>\n",
       "    </tr>\n",
       "    <tr>\n",
       "      <th>...</th>\n",
       "      <td>...</td>\n",
       "      <td>...</td>\n",
       "      <td>...</td>\n",
       "      <td>...</td>\n",
       "      <td>...</td>\n",
       "      <td>...</td>\n",
       "    </tr>\n",
       "    <tr>\n",
       "      <th>2219</th>\n",
       "      <td>2.75</td>\n",
       "      <td>True</td>\n",
       "      <td>False</td>\n",
       "      <td>False</td>\n",
       "      <td>True</td>\n",
       "      <td>False</td>\n",
       "    </tr>\n",
       "    <tr>\n",
       "      <th>2220</th>\n",
       "      <td>3.75</td>\n",
       "      <td>True</td>\n",
       "      <td>False</td>\n",
       "      <td>False</td>\n",
       "      <td>False</td>\n",
       "      <td>True</td>\n",
       "    </tr>\n",
       "    <tr>\n",
       "      <th>2221</th>\n",
       "      <td>3.50</td>\n",
       "      <td>True</td>\n",
       "      <td>False</td>\n",
       "      <td>False</td>\n",
       "      <td>False</td>\n",
       "      <td>True</td>\n",
       "    </tr>\n",
       "    <tr>\n",
       "      <th>2222</th>\n",
       "      <td>3.25</td>\n",
       "      <td>True</td>\n",
       "      <td>False</td>\n",
       "      <td>False</td>\n",
       "      <td>False</td>\n",
       "      <td>True</td>\n",
       "    </tr>\n",
       "    <tr>\n",
       "      <th>2223</th>\n",
       "      <td>3.00</td>\n",
       "      <td>True</td>\n",
       "      <td>False</td>\n",
       "      <td>False</td>\n",
       "      <td>False</td>\n",
       "      <td>True</td>\n",
       "    </tr>\n",
       "  </tbody>\n",
       "</table>\n",
       "<p>2224 rows × 6 columns</p>\n",
       "</div>"
      ],
      "text/plain": [
       "      rating  cocoa_butter  vanilla  lecithin   salt  sugar\n",
       "0       3.75          True    False     False  False   True\n",
       "1       3.50          True    False     False  False   True\n",
       "2       3.25          True    False     False  False   True\n",
       "3       3.75          True    False      True  False   True\n",
       "4       3.50          True    False      True  False   True\n",
       "...      ...           ...      ...       ...    ...    ...\n",
       "2219    2.75          True    False     False   True  False\n",
       "2220    3.75          True    False     False  False   True\n",
       "2221    3.50          True    False     False  False   True\n",
       "2222    3.25          True    False     False  False   True\n",
       "2223    3.00          True    False     False  False   True\n",
       "\n",
       "[2224 rows x 6 columns]"
      ]
     },
     "execution_count": 49,
     "metadata": {},
     "output_type": "execute_result"
    }
   ],
   "source": [
    "rating_and_composition = df[['rating', 'cocoa_butter', 'vanilla', 'lecithin', 'salt', 'sugar']]\n",
    "rating_and_composition"
   ]
  },
  {
   "cell_type": "code",
   "execution_count": 50,
   "id": "8319e211",
   "metadata": {},
   "outputs": [
    {
     "data": {
      "image/png": "[encoded data removed]",
      "text/plain": [
       "<Figure size 792x432 with 1 Axes>"
      ]
     },
     "metadata": {},
     "output_type": "display_data"
    }
   ],
   "source": [
    "#  The distribution of rating across ingredients\n",
    "\n",
    "corr_df = rating_and_composition.corr().groupby('rating').mean()\n",
    "f, ax = plt.subplots(figsize=(11, 6))\n",
    "sns.violinplot(data=corr_df, bw=.2, cut=1, linewidth=1, inner=\"quartile\")\n",
    "ax.set(ylim=(-.7, 1.3))\n",
    "sns.despine(left=True, bottom=True)"
   ]
  },
  {
   "cell_type": "code",
   "execution_count": 51,
   "id": "a6b683b2",
   "metadata": {},
   "outputs": [],
   "source": [
    "# 3. Taste of chocolate analysis"
   ]
  },
  {
   "cell_type": "code",
   "execution_count": 52,
   "id": "80d65b97",
   "metadata": {
    "scrolled": true
   },
   "outputs": [
    {
     "data": {
      "text/html": [
       "<div>\n",
       "<style scoped>\n",
       "    .dataframe tbody tr th:only-of-type {\n",
       "        vertical-align: middle;\n",
       "    }\n",
       "\n",
       "    .dataframe tbody tr th {\n",
       "        vertical-align: top;\n",
       "    }\n",
       "\n",
       "    .dataframe thead th {\n",
       "        text-align: right;\n",
       "    }\n",
       "</style>\n",
       "<table border=\"1\" class=\"dataframe\">\n",
       "  <thead>\n",
       "    <tr style=\"text-align: right;\">\n",
       "      <th></th>\n",
       "      <th>first_taste</th>\n",
       "      <th>second_taste</th>\n",
       "      <th>third_taste</th>\n",
       "      <th>fourth_taste</th>\n",
       "    </tr>\n",
       "  </thead>\n",
       "  <tbody>\n",
       "    <tr>\n",
       "      <th>0</th>\n",
       "      <td>cocoa</td>\n",
       "      <td>blackberry</td>\n",
       "      <td>full body</td>\n",
       "      <td>NaN</td>\n",
       "    </tr>\n",
       "    <tr>\n",
       "      <th>1</th>\n",
       "      <td>cocoa</td>\n",
       "      <td>vegetal</td>\n",
       "      <td>savory</td>\n",
       "      <td>NaN</td>\n",
       "    </tr>\n",
       "    <tr>\n",
       "      <th>2</th>\n",
       "      <td>rich cocoa</td>\n",
       "      <td>fatty</td>\n",
       "      <td>bready</td>\n",
       "      <td>NaN</td>\n",
       "    </tr>\n",
       "    <tr>\n",
       "      <th>3</th>\n",
       "      <td>fruity</td>\n",
       "      <td>melon</td>\n",
       "      <td>roasty</td>\n",
       "      <td>NaN</td>\n",
       "    </tr>\n",
       "    <tr>\n",
       "      <th>4</th>\n",
       "      <td>vegetal</td>\n",
       "      <td>nutty</td>\n",
       "      <td>NaN</td>\n",
       "      <td>NaN</td>\n",
       "    </tr>\n",
       "    <tr>\n",
       "      <th>...</th>\n",
       "      <td>...</td>\n",
       "      <td>...</td>\n",
       "      <td>...</td>\n",
       "      <td>...</td>\n",
       "    </tr>\n",
       "    <tr>\n",
       "      <th>2219</th>\n",
       "      <td>waxy</td>\n",
       "      <td>cloying</td>\n",
       "      <td>vegetal</td>\n",
       "      <td>NaN</td>\n",
       "    </tr>\n",
       "    <tr>\n",
       "      <th>2220</th>\n",
       "      <td>strong nutty</td>\n",
       "      <td>marshmallow</td>\n",
       "      <td>NaN</td>\n",
       "      <td>NaN</td>\n",
       "    </tr>\n",
       "    <tr>\n",
       "      <th>2221</th>\n",
       "      <td>muted</td>\n",
       "      <td>roasty</td>\n",
       "      <td>accessible</td>\n",
       "      <td>NaN</td>\n",
       "    </tr>\n",
       "    <tr>\n",
       "      <th>2222</th>\n",
       "      <td>fatty</td>\n",
       "      <td>mild nuts</td>\n",
       "      <td>mild fruit</td>\n",
       "      <td>NaN</td>\n",
       "    </tr>\n",
       "    <tr>\n",
       "      <th>2223</th>\n",
       "      <td>fatty</td>\n",
       "      <td>earthy</td>\n",
       "      <td>cocoa</td>\n",
       "      <td>NaN</td>\n",
       "    </tr>\n",
       "  </tbody>\n",
       "</table>\n",
       "<p>2224 rows × 4 columns</p>\n",
       "</div>"
      ],
      "text/plain": [
       "       first_taste second_taste third_taste fourth_taste\n",
       "0            cocoa   blackberry   full body          NaN\n",
       "1            cocoa      vegetal      savory          NaN\n",
       "2       rich cocoa        fatty      bready          NaN\n",
       "3           fruity        melon      roasty          NaN\n",
       "4          vegetal        nutty         NaN          NaN\n",
       "...            ...          ...         ...          ...\n",
       "2219          waxy      cloying     vegetal          NaN\n",
       "2220  strong nutty  marshmallow         NaN          NaN\n",
       "2221         muted       roasty  accessible          NaN\n",
       "2222         fatty    mild nuts  mild fruit          NaN\n",
       "2223         fatty       earthy       cocoa          NaN\n",
       "\n",
       "[2224 rows x 4 columns]"
      ]
     },
     "execution_count": 52,
     "metadata": {},
     "output_type": "execute_result"
    }
   ],
   "source": [
    "df_taste = df[['first_taste', 'second_taste', 'third_taste', 'fourth_taste']]\n",
    "df_taste"
   ]
  },
  {
   "cell_type": "code",
   "execution_count": 53,
   "id": "ba7d2a5d",
   "metadata": {},
   "outputs": [
    {
     "data": {
      "text/plain": [
       "fourth_taste    1982\n",
       "third_taste      620\n",
       "second_taste      77\n",
       "first_taste        0\n",
       "dtype: int64"
      ]
     },
     "execution_count": 53,
     "metadata": {},
     "output_type": "execute_result"
    }
   ],
   "source": [
    "# Count of NaN values:\n",
    "\n",
    "df_taste.isna().sum().sort_values(ascending=False)"
   ]
  },
  {
   "cell_type": "code",
   "execution_count": 54,
   "id": "7d3c1498",
   "metadata": {
    "scrolled": false
   },
   "outputs": [
    {
     "data": {
      "text/plain": [
       "creamy     7.194245\n",
       "sandy      5.755396\n",
       "intense    3.642086\n",
       "nutty      3.417266\n",
       "fatty      3.327338\n",
       "Name: first_taste, dtype: float64"
      ]
     },
     "execution_count": 54,
     "metadata": {},
     "output_type": "execute_result"
    }
   ],
   "source": [
    "# Percentage of first_taste preference\n",
    "first_taste_percentage = (df_taste['first_taste'].value_counts() * 100 / df_taste['first_taste'].count()).sort_values(ascending=False).head(5)\n",
    "first_taste_percentage"
   ]
  },
  {
   "cell_type": "code",
   "execution_count": 55,
   "id": "6b2d00e3",
   "metadata": {},
   "outputs": [
    {
     "data": {
      "text/plain": [
       "sweet     5.356311\n",
       "nutty     3.865859\n",
       "earthy    3.260363\n",
       "roasty    3.027480\n",
       "cocoa     2.980904\n",
       "Name: second_taste, dtype: float64"
      ]
     },
     "execution_count": 55,
     "metadata": {},
     "output_type": "execute_result"
    }
   ],
   "source": [
    "# Percentage of second_taste preference\n",
    "second_taste_percentage = df_taste['second_taste'].notna()\n",
    "second_taste_percentage = (df_taste['second_taste'].value_counts() * 100 / df_taste['second_taste'].count()).sort_values(ascending=False).head(5)\n",
    "second_taste_percentage"
   ]
  },
  {
   "cell_type": "code",
   "execution_count": 56,
   "id": "95332223",
   "metadata": {},
   "outputs": [
    {
     "data": {
      "text/plain": [
       "cocoa     5.860349\n",
       "nutty     4.364090\n",
       "roasty    4.301746\n",
       "sour      3.865337\n",
       "earthy    2.992519\n",
       "Name: third_taste, dtype: float64"
      ]
     },
     "execution_count": 56,
     "metadata": {},
     "output_type": "execute_result"
    }
   ],
   "source": [
    "# Percentage of third_taste preference\n",
    "third_taste_percentage = df_taste['third_taste'].notna()\n",
    "third_taste_percentage = (df_taste['third_taste'].value_counts() * 100 / df_taste['third_taste'].count()).sort_values(ascending=False).head(5)\n",
    "third_taste_percentage"
   ]
  },
  {
   "cell_type": "code",
   "execution_count": 57,
   "id": "58571cce",
   "metadata": {
    "scrolled": true
   },
   "outputs": [
    {
     "data": {
      "text/plain": [
       "cocoa     6.611570\n",
       "roasty    6.611570\n",
       "sour      5.371901\n",
       "rich      4.545455\n",
       "earthy    4.132231\n",
       "Name: fourth_taste, dtype: float64"
      ]
     },
     "execution_count": 57,
     "metadata": {},
     "output_type": "execute_result"
    }
   ],
   "source": [
    "# Percentage of fourth_taste preference\n",
    "fourth_taste_percentage = df_taste['fourth_taste'].notna()\n",
    "fourth_taste_percentage = (df_taste['fourth_taste'].value_counts() * 100 / df_taste['fourth_taste'].count()).sort_values(ascending=False).head(5)\n",
    "fourth_taste_percentage"
   ]
  },
  {
   "cell_type": "code",
   "execution_count": 58,
   "id": "175412f8",
   "metadata": {
    "scrolled": false
   },
   "outputs": [
    {
     "data": {
      "image/png": "[encoded data removed]",
      "text/plain": [
       "<Figure size 576x576 with 4 Axes>"
      ]
     },
     "metadata": {},
     "output_type": "display_data"
    }
   ],
   "source": [
    "plt.subplot(2, 2, 1)\n",
    "first_taste_percentage.plot.pie(fontsize=10, figsize=(6, 6), title='TOP 5 of first taste preference')\n",
    "\n",
    "plt.subplot(2, 2, 2)\n",
    "second_taste_percentage.plot.pie(fontsize=10, figsize=(8, 8), title='TOP 5 of second taste preference')\n",
    "\n",
    "plt.subplot(2, 2, 3)\n",
    "third_taste_percentage.plot.pie(fontsize=10, figsize=(8, 8), title='TOP 5 of third taste preference')\n",
    "\n",
    "plt.subplot(2, 2, 4)\n",
    "fourth_taste_percentage.plot.pie(fontsize=10, figsize=(8, 8), title='TOP 5 of fourth taste preference')\n",
    "\n",
    "plt.tight_layout()"
   ]
  }
 ],
 "metadata": {
  "kernelspec": {
   "display_name": "Python 3 (ipykernel)",
   "language": "python",
   "name": "python3"
  },
  "language_info": {
   "codemirror_mode": {
    "name": "ipython",
    "version": 3
   },
   "file_extension": ".py",
   "mimetype": "text/x-python",
   "name": "python",
   "nbconvert_exporter": "python",
   "pygments_lexer": "ipython3",
   "version": "3.9.12"
  }
 },
 "nbformat": 4,
 "nbformat_minor": 5
}
